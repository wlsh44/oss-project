{
  "cells": [
    {
      "cell_type": "code",
      "source": [
        "!pip install pandas==1.3.4"
      ],
      "metadata": {
        "colab": {
          "base_uri": "https://localhost:8080/",
          "height": 384
        },
        "id": "TJfOuNpgVDgo",
        "outputId": "ead23e13-0564-4910-fccc-60466eee138f"
      },
      "id": "TJfOuNpgVDgo",
      "execution_count": 1,
      "outputs": [
        {
          "output_type": "stream",
          "name": "stdout",
          "text": [
            "Collecting pandas==1.3.4\n",
            "  Downloading pandas-1.3.4-cp37-cp37m-manylinux_2_17_x86_64.manylinux2014_x86_64.whl (11.3 MB)\n",
            "\u001b[K     |████████████████████████████████| 11.3 MB 7.6 MB/s \n",
            "\u001b[?25hRequirement already satisfied: numpy>=1.17.3 in /usr/local/lib/python3.7/dist-packages (from pandas==1.3.4) (1.19.5)\n",
            "Requirement already satisfied: python-dateutil>=2.7.3 in /usr/local/lib/python3.7/dist-packages (from pandas==1.3.4) (2.8.2)\n",
            "Requirement already satisfied: pytz>=2017.3 in /usr/local/lib/python3.7/dist-packages (from pandas==1.3.4) (2018.9)\n",
            "Requirement already satisfied: six>=1.5 in /usr/local/lib/python3.7/dist-packages (from python-dateutil>=2.7.3->pandas==1.3.4) (1.15.0)\n",
            "Installing collected packages: pandas\n",
            "  Attempting uninstall: pandas\n",
            "    Found existing installation: pandas 1.1.5\n",
            "    Uninstalling pandas-1.1.5:\n",
            "      Successfully uninstalled pandas-1.1.5\n",
            "\u001b[31mERROR: pip's dependency resolver does not currently take into account all the packages that are installed. This behaviour is the source of the following dependency conflicts.\n",
            "google-colab 1.0.0 requires pandas~=1.1.0; python_version >= \"3.0\", but you have pandas 1.3.4 which is incompatible.\u001b[0m\n",
            "Successfully installed pandas-1.3.4\n"
          ]
        },
        {
          "output_type": "display_data",
          "data": {
            "application/vnd.colab-display-data+json": {
              "pip_warning": {
                "packages": [
                  "pandas"
                ]
              }
            }
          },
          "metadata": {}
        }
      ]
    },
    {
      "cell_type": "code",
      "source": [
        "!python --version"
      ],
      "metadata": {
        "colab": {
          "base_uri": "https://localhost:8080/"
        },
        "id": "DDNyCBBnuy27",
        "outputId": "eea32837-79e6-4ede-f5b5-26c7077d7648"
      },
      "id": "DDNyCBBnuy27",
      "execution_count": 128,
      "outputs": [
        {
          "output_type": "stream",
          "name": "stdout",
          "text": [
            "Python 3.7.12\n"
          ]
        }
      ]
    },
    {
      "cell_type": "code",
      "source": [
        "from google.colab import drive\n",
        "\n",
        "drive.mount('/content/drive')"
      ],
      "metadata": {
        "colab": {
          "base_uri": "https://localhost:8080/"
        },
        "id": "FSf6SEtl4pVY",
        "outputId": "47274b04-1fd5-46c1-81f2-57c830077b3e"
      },
      "id": "FSf6SEtl4pVY",
      "execution_count": 1,
      "outputs": [
        {
          "output_type": "stream",
          "name": "stdout",
          "text": [
            "Mounted at /content/drive\n"
          ]
        }
      ]
    },
    {
      "cell_type": "code",
      "source": [
        "!unzip \"/content/drive/MyDrive/Colab Notebooks/oss-project/PokemonData.zip\" -d \"/content\""
      ],
      "metadata": {
        "id": "a1baq-nkVJIc"
      },
      "id": "a1baq-nkVJIc",
      "execution_count": null,
      "outputs": []
    },
    {
      "cell_type": "code",
      "source": [
        "!rm -rf PokemonData/test/.DS_Store\n",
        "!rm -rf PokemonData/train/.DS_Store\n",
        "!rm -rf PokemonData/validation/.DS_Store"
      ],
      "metadata": {
        "id": "1aDV4XP9XMAM"
      },
      "id": "1aDV4XP9XMAM",
      "execution_count": 3,
      "outputs": []
    },
    {
      "cell_type": "code",
      "execution_count": 4,
      "id": "d339c136",
      "metadata": {
        "id": "d339c136"
      },
      "outputs": [],
      "source": [
        "import tensorflow as tf\n",
        "from tensorflow.keras.preprocessing.image import ImageDataGenerator\n",
        "import os\n",
        "import pandas as pd\n",
        "import matplotlib.pyplot as plt\n",
        "import numpy as np"
      ]
    },
    {
      "cell_type": "code",
      "source": [
        "device_name = tf.test.gpu_device_name()\n",
        "print('Found GPU at: {}'.format(device_name))"
      ],
      "metadata": {
        "colab": {
          "base_uri": "https://localhost:8080/"
        },
        "id": "-S3HzNUh5Xwu",
        "outputId": "0f3f1662-f632-450b-e2f4-d63363eb1557"
      },
      "id": "-S3HzNUh5Xwu",
      "execution_count": 5,
      "outputs": [
        {
          "output_type": "stream",
          "name": "stdout",
          "text": [
            "Found GPU at: /device:GPU:0\n"
          ]
        }
      ]
    },
    {
      "cell_type": "code",
      "execution_count": 6,
      "id": "2bf1123e",
      "metadata": {
        "colab": {
          "base_uri": "https://localhost:8080/",
          "height": 35
        },
        "id": "2bf1123e",
        "outputId": "dc721510-1de4-4c40-c5d2-1341c6a2bd34"
      },
      "outputs": [
        {
          "output_type": "execute_result",
          "data": {
            "application/vnd.google.colaboratory.intrinsic+json": {
              "type": "string"
            },
            "text/plain": [
              "'2.7.0'"
            ]
          },
          "metadata": {},
          "execution_count": 6
        }
      ],
      "source": [
        "tf.__version__"
      ]
    },
    {
      "cell_type": "code",
      "source": [
        "ROOT = '/content/drive/MyDrive/Colab Notebooks/oss-project/'"
      ],
      "metadata": {
        "id": "PKEgaRsQ4TLU"
      },
      "id": "PKEgaRsQ4TLU",
      "execution_count": 7,
      "outputs": []
    },
    {
      "cell_type": "code",
      "execution_count": 8,
      "id": "183ebb12",
      "metadata": {
        "id": "183ebb12"
      },
      "outputs": [],
      "source": [
        "# data_dir = ROOT + 'PokemonData/'\n",
        "data_dir = 'PokemonData/'\n",
        "train_dir = data_dir + 'train/'\n",
        "test_dir = data_dir + 'test/'\n",
        "validation_dir = data_dir + 'validation/'"
      ]
    },
    {
      "cell_type": "code",
      "execution_count": 9,
      "id": "8e9af68e",
      "metadata": {
        "id": "8e9af68e"
      },
      "outputs": [],
      "source": [
        "train_data = os.listdir(train_dir)\n",
        "test_data = os.listdir(test_dir)\n",
        "validation_data = os.listdir(validation_dir)"
      ]
    },
    {
      "cell_type": "code",
      "execution_count": 10,
      "id": "917f368f",
      "metadata": {
        "id": "917f368f"
      },
      "outputs": [],
      "source": [
        "# train_data.remove('.DS_Store')\n",
        "# validation_data"
      ]
    },
    {
      "cell_type": "code",
      "execution_count": 11,
      "id": "812e88f7",
      "metadata": {
        "id": "812e88f7"
      },
      "outputs": [],
      "source": [
        "n_classes = len(train_data)"
      ]
    },
    {
      "cell_type": "code",
      "execution_count": 12,
      "id": "ab4e17bb",
      "metadata": {
        "id": "ab4e17bb"
      },
      "outputs": [],
      "source": [
        "def get_data_cnt(data, data_dir):\n",
        "    cnt = 0\n",
        "\n",
        "    for pokemon in data:\n",
        "        cnt += len(os.listdir(data_dir + pokemon))\n",
        "\n",
        "    return cnt"
      ]
    },
    {
      "cell_type": "code",
      "execution_count": 13,
      "id": "d68b542d",
      "metadata": {
        "colab": {
          "base_uri": "https://localhost:8080/"
        },
        "id": "d68b542d",
        "outputId": "fb43ad2c-01ba-4030-8f34-d5a8377aa296"
      },
      "outputs": [
        {
          "output_type": "stream",
          "name": "stdout",
          "text": [
            "train 이미지 개수 9691\n",
            "test 이미지 개수 1127\n",
            "validation 이미지 개수 1127\n",
            "포켓몬 종류 151\n"
          ]
        }
      ],
      "source": [
        "train_num = get_data_cnt(train_data, train_dir)\n",
        "test_num = get_data_cnt(test_data, test_dir)\n",
        "val_num = get_data_cnt(validation_data, validation_dir)\n",
        "print('train 이미지 개수', train_num)\n",
        "print('test 이미지 개수', test_num)\n",
        "print('validation 이미지 개수', val_num)\n",
        "print('포켓몬 종류', len(train_data))"
      ]
    },
    {
      "cell_type": "code",
      "execution_count": 23,
      "id": "e9341f83",
      "metadata": {
        "colab": {
          "base_uri": "https://localhost:8080/"
        },
        "id": "e9341f83",
        "outputId": "6fd424fe-ef11-40d4-a977-b3471a80689c"
      },
      "outputs": [
        {
          "output_type": "stream",
          "name": "stdout",
          "text": [
            "Found 9691 images belonging to 151 classes.\n",
            "Found 1127 images belonging to 151 classes.\n",
            "Found 1127 images belonging to 151 classes.\n"
          ]
        }
      ],
      "source": [
        "train_gen = ImageDataGenerator(rescale=1./255)\n",
        "val_gen = ImageDataGenerator(rescale=1./255)\n",
        "test_datagen = ImageDataGenerator(rescale=1./255)\n",
        "\n",
        "train_generator = train_gen.flow_from_directory(\n",
        "                    train_dir,\n",
        "                    target_size=(224, 224),\n",
        "                    batch_size=64,\n",
        "                    class_mode='categorical')\n",
        "val_generator = val_gen.flow_from_directory(\n",
        "                    validation_dir,\n",
        "                    target_size=(224, 224),\n",
        "                    batch_size=32,\n",
        "                    class_mode='categorical')\n",
        "test_generator = test_datagen.flow_from_directory(\n",
        "                    test_dir,\n",
        "                    class_mode='categorical',\n",
        "                    target_size=(224, 224))"
      ]
    },
    {
      "cell_type": "code",
      "execution_count": 25,
      "id": "7ef93bf8",
      "metadata": {
        "colab": {
          "base_uri": "https://localhost:8080/"
        },
        "id": "7ef93bf8",
        "outputId": "5fc478bd-42ee-4428-f85a-580151152bae"
      },
      "outputs": [
        {
          "output_type": "stream",
          "name": "stdout",
          "text": [
            "Model: \"sequential_1\"\n",
            "_________________________________________________________________\n",
            " Layer (type)                Output Shape              Param #   \n",
            "=================================================================\n",
            " resnet50 (Functional)       (None, 7, 7, 2048)        23587712  \n",
            "                                                                 \n",
            " global_average_pooling2d_1   (None, 2048)             0         \n",
            " (GlobalAveragePooling2D)                                        \n",
            "                                                                 \n",
            " dense_1 (Dense)             (None, 151)               309399    \n",
            "                                                                 \n",
            "=================================================================\n",
            "Total params: 23,897,111\n",
            "Trainable params: 23,843,991\n",
            "Non-trainable params: 53,120\n",
            "_________________________________________________________________\n",
            "Epoch 1/30\n",
            "151/151 [==============================] - 77s 452ms/step - loss: 2.0431 - accuracy: 0.5262 - val_loss: 11.7798 - val_accuracy: 0.0045\n",
            "Epoch 2/30\n",
            "151/151 [==============================] - 71s 453ms/step - loss: 0.5383 - accuracy: 0.8517 - val_loss: 9.6218 - val_accuracy: 0.0080\n",
            "Epoch 3/30\n",
            "151/151 [==============================] - 70s 443ms/step - loss: 0.2300 - accuracy: 0.9336 - val_loss: 5.7719 - val_accuracy: 0.0857\n",
            "Epoch 4/30\n",
            "151/151 [==============================] - 71s 450ms/step - loss: 0.1368 - accuracy: 0.9606 - val_loss: 4.1709 - val_accuracy: 0.2152\n",
            "Epoch 5/30\n",
            "151/151 [==============================] - 70s 445ms/step - loss: 0.1479 - accuracy: 0.9572 - val_loss: 1.9781 - val_accuracy: 0.5705\n",
            "Epoch 6/30\n",
            "151/151 [==============================] - 70s 448ms/step - loss: 0.0914 - accuracy: 0.9738 - val_loss: 1.1667 - val_accuracy: 0.7545\n",
            "Epoch 7/30\n",
            "151/151 [==============================] - 70s 447ms/step - loss: 0.1290 - accuracy: 0.9606 - val_loss: 1.2626 - val_accuracy: 0.7196\n",
            "Epoch 8/30\n",
            "151/151 [==============================] - 70s 444ms/step - loss: 0.0948 - accuracy: 0.9735 - val_loss: 0.7400 - val_accuracy: 0.8196\n",
            "Epoch 9/30\n",
            "151/151 [==============================] - 70s 450ms/step - loss: 0.0426 - accuracy: 0.9885 - val_loss: 0.9689 - val_accuracy: 0.7848\n",
            "Epoch 10/30\n",
            "151/151 [==============================] - 70s 448ms/step - loss: 0.0391 - accuracy: 0.9903 - val_loss: 1.2784 - val_accuracy: 0.7545\n",
            "Epoch 11/30\n",
            "151/151 [==============================] - 69s 446ms/step - loss: 0.0631 - accuracy: 0.9816 - val_loss: 0.8488 - val_accuracy: 0.8000\n",
            "Epoch 12/30\n",
            "151/151 [==============================] - 70s 447ms/step - loss: 0.0435 - accuracy: 0.9878 - val_loss: 0.7826 - val_accuracy: 0.8214\n",
            "Epoch 13/30\n",
            "151/151 [==============================] - 70s 449ms/step - loss: 0.0457 - accuracy: 0.9885 - val_loss: 1.2285 - val_accuracy: 0.7518\n",
            "Epoch 14/30\n",
            "151/151 [==============================] - 69s 443ms/step - loss: 0.0814 - accuracy: 0.9777 - val_loss: 1.2310 - val_accuracy: 0.7321\n",
            "Epoch 15/30\n",
            "151/151 [==============================] - 70s 440ms/step - loss: 0.0638 - accuracy: 0.9818 - val_loss: 1.1579 - val_accuracy: 0.7366\n",
            "Epoch 16/30\n",
            "151/151 [==============================] - 69s 445ms/step - loss: 0.0596 - accuracy: 0.9809 - val_loss: 1.3386 - val_accuracy: 0.7205\n",
            "Epoch 17/30\n",
            "151/151 [==============================] - 69s 442ms/step - loss: 0.0388 - accuracy: 0.9893 - val_loss: 2.3569 - val_accuracy: 0.5598\n",
            "Epoch 18/30\n",
            "151/151 [==============================] - 70s 446ms/step - loss: 0.0397 - accuracy: 0.9891 - val_loss: 1.2597 - val_accuracy: 0.7696\n",
            "Epoch 19/30\n",
            "151/151 [==============================] - 69s 442ms/step - loss: 0.0476 - accuracy: 0.9869 - val_loss: 0.8836 - val_accuracy: 0.7929\n",
            "Epoch 20/30\n",
            "151/151 [==============================] - 69s 444ms/step - loss: 0.0303 - accuracy: 0.9929 - val_loss: 0.7901 - val_accuracy: 0.8304\n",
            "Epoch 21/30\n",
            "151/151 [==============================] - 69s 442ms/step - loss: 0.0166 - accuracy: 0.9962 - val_loss: 0.5020 - val_accuracy: 0.8839\n",
            "Epoch 22/30\n",
            "151/151 [==============================] - 69s 443ms/step - loss: 0.0019 - accuracy: 0.9997 - val_loss: 0.4166 - val_accuracy: 0.9071\n",
            "Epoch 23/30\n",
            "151/151 [==============================] - 69s 440ms/step - loss: 0.0011 - accuracy: 0.9998 - val_loss: 0.4369 - val_accuracy: 0.9036\n",
            "Epoch 24/30\n",
            "151/151 [==============================] - 70s 448ms/step - loss: 0.0011 - accuracy: 0.9999 - val_loss: 0.4165 - val_accuracy: 0.9143\n",
            "Epoch 25/30\n",
            "151/151 [==============================] - 69s 445ms/step - loss: 2.1696e-04 - accuracy: 1.0000 - val_loss: 0.3810 - val_accuracy: 0.9143\n",
            "Epoch 26/30\n",
            "151/151 [==============================] - 69s 445ms/step - loss: 1.2485e-04 - accuracy: 1.0000 - val_loss: 0.3787 - val_accuracy: 0.9161\n",
            "Epoch 27/30\n",
            "151/151 [==============================] - 70s 446ms/step - loss: 8.4186e-05 - accuracy: 1.0000 - val_loss: 0.3759 - val_accuracy: 0.9205\n",
            "Epoch 28/30\n",
            "151/151 [==============================] - 69s 445ms/step - loss: 7.7032e-05 - accuracy: 1.0000 - val_loss: 0.3747 - val_accuracy: 0.9205\n",
            "Epoch 29/30\n",
            "151/151 [==============================] - 69s 445ms/step - loss: 5.9111e-05 - accuracy: 1.0000 - val_loss: 0.3733 - val_accuracy: 0.9223\n",
            "Epoch 30/30\n",
            "151/151 [==============================] - 70s 444ms/step - loss: 5.2936e-05 - accuracy: 1.0000 - val_loss: 0.3751 - val_accuracy: 0.9214\n"
          ]
        }
      ],
      "source": [
        "with tf.device('/device:GPU:0'):\n",
        "    resnet = tf.keras.applications.ResNet50(\n",
        "        include_top=False,\n",
        "        weights=\"imagenet\",\n",
        "        input_shape=(224, 224, 3))\n",
        "    model = tf.keras.Sequential()\n",
        "    model.add(resnet)\n",
        "    model.add(tf.keras.layers.GlobalAveragePooling2D())\n",
        "    model.add(tf.keras.layers.Dense(n_classes, activation='softmax'))\n",
        "    # model.layers[0].trainable = False\n",
        "    model.summary()\n",
        "    model.compile(optimizer='adam',loss='categorical_crossentropy',metrics=['accuracy'])\n",
        "    history = model.fit(\n",
        "        train_generator,\n",
        "        steps_per_epoch=train_num//64,  \n",
        "        epochs=30,\n",
        "        validation_data=val_generator,\n",
        "        validation_steps=val_num//32,\n",
        "        workers=8\n",
        "    )"
      ]
    },
    {
      "cell_type": "code",
      "execution_count": 26,
      "id": "7ccac8bb",
      "metadata": {
        "colab": {
          "base_uri": "https://localhost:8080/",
          "height": 297
        },
        "id": "7ccac8bb",
        "outputId": "7aad90d2-9323-4eb7-c4ed-c5faeb344bf2"
      },
      "outputs": [
        {
          "output_type": "display_data",
          "data": {
            "image/png": "[encoded data removed]",
            "text/plain": [
              "<Figure size 720x288 with 2 Axes>"
            ]
          },
          "metadata": {
            "needs_background": "light"
          }
        }
      ],
      "source": [
        "history_dict = history.history\n",
        "loss = history_dict['loss']\n",
        "val_loss = history_dict['val_loss']\n",
        "\n",
        "acc = history_dict['accuracy']\n",
        "val_acc = history_dict['val_accuracy']\n",
        "\n",
        "epochs = range(1, len(loss) + 1)\n",
        "\n",
        "plt.figure(figsize=(10, 4))\n",
        "\n",
        "plt.subplot(121)\n",
        "\n",
        "plt.plot(epochs, loss, 'r', label='training loss')\n",
        "plt.plot(epochs, val_loss, 'b', label='validation loss')\n",
        "plt.xlabel('Epochs')\n",
        "plt.ylabel('Loss')\n",
        "plt.legend()\n",
        "\n",
        "plt.subplot(122)\n",
        "\n",
        "plt.plot(epochs, acc, 'r', label='training acc')\n",
        "plt.plot(epochs, val_acc, 'b', label='validation acc')\n",
        "plt.xlabel('Epochs')\n",
        "plt.ylabel('Acc')\n",
        "plt.legend()\n",
        "\n",
        "plt.tight_layout()\n",
        "plt.show()"
      ]
    },
    {
      "cell_type": "code",
      "source": [
        "pred = model.predict(test_generator)\n"
      ],
      "metadata": {
        "id": "GBGa8NoEQfNr"
      },
      "id": "GBGa8NoEQfNr",
      "execution_count": 27,
      "outputs": []
    },
    {
      "cell_type": "code",
      "source": [
        "predicted_class_indices=np.argmax(pred, axis=1)\n",
        "\n",
        "labels = (train_generator.class_indices)\n",
        "labels = dict((v,k) for k,v in labels.items())\n",
        "predictions = [labels[k] for k in predicted_class_indices]"
      ],
      "metadata": {
        "id": "EqWg1NwHRmu1"
      },
      "id": "EqWg1NwHRmu1",
      "execution_count": 28,
      "outputs": []
    },
    {
      "cell_type": "code",
      "source": [
        "filenames=test_generator.filenames\n",
        "results=pd.DataFrame({\"Filename\":filenames,\n",
        "                      \"Predictions\":predictions})\n",
        "results"
      ],
      "metadata": {
        "colab": {
          "base_uri": "https://localhost:8080/",
          "height": 424
        },
        "id": "dHGIpTVeRiED",
        "outputId": "5e8fb200-3a3f-48c9-b9c4-bb82af9f3231"
      },
      "id": "dHGIpTVeRiED",
      "execution_count": 29,
      "outputs": [
        {
          "output_type": "execute_result",
          "data": {
            "text/html": [
              "\n",
              "  <div id=\"df-3c329787-5c74-4254-a12d-96d33fcd7d61\">\n",
              "    <div class=\"colab-df-container\">\n",
              "      <div>\n",
              "<style scoped>\n",
              "    .dataframe tbody tr th:only-of-type {\n",
              "        vertical-align: middle;\n",
              "    }\n",
              "\n",
              "    .dataframe tbody tr th {\n",
              "        vertical-align: top;\n",
              "    }\n",
              "\n",
              "    .dataframe thead th {\n",
              "        text-align: right;\n",
              "    }\n",
              "</style>\n",
              "<table border=\"1\" class=\"dataframe\">\n",
              "  <thead>\n",
              "    <tr style=\"text-align: right;\">\n",
              "      <th></th>\n",
              "      <th>Filename</th>\n",
              "      <th>Predictions</th>\n",
              "    </tr>\n",
              "  </thead>\n",
              "  <tbody>\n",
              "    <tr>\n",
              "      <th>0</th>\n",
              "      <td>Abra/Abra20.jpg</td>\n",
              "      <td>Raticate</td>\n",
              "    </tr>\n",
              "    <tr>\n",
              "      <th>1</th>\n",
              "      <td>Abra/Abra21.jpg</td>\n",
              "      <td>Rapidash</td>\n",
              "    </tr>\n",
              "    <tr>\n",
              "      <th>2</th>\n",
              "      <td>Abra/Abra22.jpg</td>\n",
              "      <td>Slowpoke</td>\n",
              "    </tr>\n",
              "    <tr>\n",
              "      <th>3</th>\n",
              "      <td>Abra/Abra34.jpg</td>\n",
              "      <td>Persian</td>\n",
              "    </tr>\n",
              "    <tr>\n",
              "      <th>4</th>\n",
              "      <td>Abra/Abra35.jpg</td>\n",
              "      <td>Poliwag</td>\n",
              "    </tr>\n",
              "    <tr>\n",
              "      <th>...</th>\n",
              "      <td>...</td>\n",
              "      <td>...</td>\n",
              "    </tr>\n",
              "    <tr>\n",
              "      <th>1122</th>\n",
              "      <td>Zubat/Zubat26.jpg</td>\n",
              "      <td>Wigglytuff</td>\n",
              "    </tr>\n",
              "    <tr>\n",
              "      <th>1123</th>\n",
              "      <td>Zubat/Zubat27.jpg</td>\n",
              "      <td>Growlithe</td>\n",
              "    </tr>\n",
              "    <tr>\n",
              "      <th>1124</th>\n",
              "      <td>Zubat/Zubat31.jpg</td>\n",
              "      <td>Krabby</td>\n",
              "    </tr>\n",
              "    <tr>\n",
              "      <th>1125</th>\n",
              "      <td>Zubat/Zubat32.jpg</td>\n",
              "      <td>Gengar</td>\n",
              "    </tr>\n",
              "    <tr>\n",
              "      <th>1126</th>\n",
              "      <td>Zubat/Zubat33.jpg</td>\n",
              "      <td>Horsea</td>\n",
              "    </tr>\n",
              "  </tbody>\n",
              "</table>\n",
              "<p>1127 rows × 2 columns</p>\n",
              "</div>\n",
              "      <button class=\"colab-df-convert\" onclick=\"convertToInteractive('df-3c329787-5c74-4254-a12d-96d33fcd7d61')\"\n",
              "              title=\"Convert this dataframe to an interactive table.\"\n",
              "              style=\"display:none;\">\n",
              "        \n",
              "  <svg xmlns=\"http://www.w3.org/2000/svg\" height=\"24px\"viewBox=\"0 0 24 24\"\n",
              "       width=\"24px\">\n",
              "    <path d=\"M0 0h24v24H0V0z\" fill=\"none\"/>\n",
              "    <path d=\"M18.56 5.44l.94 2.06.94-2.06 2.06-.94-2.06-.94-.94-2.06-.94 2.06-2.06.94zm-11 1L8.5 8.5l.94-2.06 2.06-.94-2.06-.94L8.5 2.5l-.94 2.06-2.06.94zm10 10l.94 2.06.94-2.06 2.06-.94-2.06-.94-.94-2.06-.94 2.06-2.06.94z\"/><path d=\"M17.41 7.96l-1.37-1.37c-.4-.4-.92-.59-1.43-.59-.52 0-1.04.2-1.43.59L10.3 9.45l-7.72 7.72c-.78.78-.78 2.05 0 2.83L4 21.41c.39.39.9.59 1.41.59.51 0 1.02-.2 1.41-.59l7.78-7.78 2.81-2.81c.8-.78.8-2.07 0-2.86zM5.41 20L4 18.59l7.72-7.72 1.47 1.35L5.41 20z\"/>\n",
              "  </svg>\n",
              "      </button>\n",
              "      \n",
              "  <style>\n",
              "    .colab-df-container {\n",
              "      display:flex;\n",
              "      flex-wrap:wrap;\n",
              "      gap: 12px;\n",
              "    }\n",
              "\n",
              "    .colab-df-convert {\n",
              "      background-color: #E8F0FE;\n",
              "      border: none;\n",
              "      border-radius: 50%;\n",
              "      cursor: pointer;\n",
              "      display: none;\n",
              "      fill: #1967D2;\n",
              "      height: 32px;\n",
              "      padding: 0 0 0 0;\n",
              "      width: 32px;\n",
              "    }\n",
              "\n",
              "    .colab-df-convert:hover {\n",
              "      background-color: #E2EBFA;\n",
              "      box-shadow: 0px 1px 2px rgba(60, 64, 67, 0.3), 0px 1px 3px 1px rgba(60, 64, 67, 0.15);\n",
              "      fill: #174EA6;\n",
              "    }\n",
              "\n",
              "    [theme=dark] .colab-df-convert {\n",
              "      background-color: #3B4455;\n",
              "      fill: #D2E3FC;\n",
              "    }\n",
              "\n",
              "    [theme=dark] .colab-df-convert:hover {\n",
              "      background-color: #434B5C;\n",
              "      box-shadow: 0px 1px 3px 1px rgba(0, 0, 0, 0.15);\n",
              "      filter: drop-shadow(0px 1px 2px rgba(0, 0, 0, 0.3));\n",
              "      fill: #FFFFFF;\n",
              "    }\n",
              "  </style>\n",
              "\n",
              "      <script>\n",
              "        const buttonEl =\n",
              "          document.querySelector('#df-3c329787-5c74-4254-a12d-96d33fcd7d61 button.colab-df-convert');\n",
              "        buttonEl.style.display =\n",
              "          google.colab.kernel.accessAllowed ? 'block' : 'none';\n",
              "\n",
              "        async function convertToInteractive(key) {\n",
              "          const element = document.querySelector('#df-3c329787-5c74-4254-a12d-96d33fcd7d61');\n",
              "          const dataTable =\n",
              "            await google.colab.kernel.invokeFunction('convertToInteractive',\n",
              "                                                     [key], {});\n",
              "          if (!dataTable) return;\n",
              "\n",
              "          const docLinkHtml = 'Like what you see? Visit the ' +\n",
              "            '<a target=\"_blank\" href=https://colab.research.google.com/notebooks/data_table.ipynb>data table notebook</a>'\n",
              "            + ' to learn more about interactive tables.';\n",
              "          element.innerHTML = '';\n",
              "          dataTable['output_type'] = 'display_data';\n",
              "          await google.colab.output.renderOutput(dataTable, element);\n",
              "          const docLink = document.createElement('div');\n",
              "          docLink.innerHTML = docLinkHtml;\n",
              "          element.appendChild(docLink);\n",
              "        }\n",
              "      </script>\n",
              "    </div>\n",
              "  </div>\n",
              "  "
            ],
            "text/plain": [
              "               Filename Predictions\n",
              "0       Abra/Abra20.jpg    Raticate\n",
              "1       Abra/Abra21.jpg    Rapidash\n",
              "2       Abra/Abra22.jpg    Slowpoke\n",
              "3       Abra/Abra34.jpg     Persian\n",
              "4       Abra/Abra35.jpg     Poliwag\n",
              "...                 ...         ...\n",
              "1122  Zubat/Zubat26.jpg  Wigglytuff\n",
              "1123  Zubat/Zubat27.jpg   Growlithe\n",
              "1124  Zubat/Zubat31.jpg      Krabby\n",
              "1125  Zubat/Zubat32.jpg      Gengar\n",
              "1126  Zubat/Zubat33.jpg      Horsea\n",
              "\n",
              "[1127 rows x 2 columns]"
            ]
          },
          "metadata": {},
          "execution_count": 29
        }
      ]
    },
    {
      "cell_type": "code",
      "source": [
        "from sklearn.metrics import accuracy_score\n",
        "\n",
        "y_true = [filename.split('/')[0] for filename in filenames]\n",
        "\n",
        "score = accuracy_score(y_true, predictions)"
      ],
      "metadata": {
        "id": "OFGbkoIbgjc2"
      },
      "id": "OFGbkoIbgjc2",
      "execution_count": 32,
      "outputs": []
    },
    {
      "cell_type": "code",
      "source": [
        "score"
      ],
      "metadata": {
        "colab": {
          "base_uri": "https://localhost:8080/"
        },
        "id": "PiBiRjxUhi1d",
        "outputId": "cf0f7424-85c9-43cc-a31d-ecf66cead1f8"
      },
      "id": "PiBiRjxUhi1d",
      "execution_count": 33,
      "outputs": [
        {
          "output_type": "execute_result",
          "data": {
            "text/plain": [
              "0.008873114463176575"
            ]
          },
          "metadata": {},
          "execution_count": 33
        }
      ]
    },
    {
      "cell_type": "code",
      "source": [
        "model.save(ROOT + 'resnet_overfitting.h5')"
      ],
      "metadata": {
        "colab": {
          "base_uri": "https://localhost:8080/"
        },
        "id": "jnFghoi9T3j5",
        "outputId": "92525231-d2e4-4773-b3c6-5cebe463daa4"
      },
      "id": "jnFghoi9T3j5",
      "execution_count": 37,
      "outputs": [
        {
          "output_type": "stream",
          "name": "stderr",
          "text": [
            "/usr/local/lib/python3.7/dist-packages/keras/engine/functional.py:1410: CustomMaskWarning: Custom mask layers require a config and must override get_config. When loading, the custom mask layer must be passed to the custom_objects argument.\n",
            "  layer_config = serialize_layer_fn(layer)\n"
          ]
        }
      ]
    },
    {
      "cell_type": "markdown",
      "source": [
        "### Data Augmentation"
      ],
      "metadata": {
        "id": "F5NMLBBTka19"
      },
      "id": "F5NMLBBTka19"
    },
    {
      "cell_type": "code",
      "source": [
        "train_gen = ImageDataGenerator(rescale=1./255,\n",
        "                                rotation_range=40,\n",
        "                                width_shift_range=0.2,\n",
        "                                height_shift_range=0.2,\n",
        "                                shear_range=0.1,\n",
        "                                zoom_range=0.2,\n",
        "                                horizontal_flip=True,\n",
        "                                vertical_flip=True)\n",
        "val_gen = ImageDataGenerator(rescale=1./255)\n",
        "test_datagen = ImageDataGenerator(rescale=1./255)\n",
        "\n",
        "train_generator = train_gen.flow_from_directory(\n",
        "                    train_dir,\n",
        "                    target_size=(224, 224),\n",
        "                    batch_size=64,\n",
        "                    class_mode='categorical')\n",
        "val_generator = val_gen.flow_from_directory(\n",
        "                    validation_dir,\n",
        "                    target_size=(224, 224),\n",
        "                    batch_size=32,\n",
        "                    class_mode='categorical')\n",
        "test_generator = test_datagen.flow_from_directory(\n",
        "                    test_dir,\n",
        "                    class_mode='categorical',\n",
        "                    target_size=(224, 224))"
      ],
      "metadata": {
        "id": "qnOfRXLNUqaz",
        "colab": {
          "base_uri": "https://localhost:8080/"
        },
        "outputId": "6eec7193-e725-4d22-81d2-f4384ddd461a"
      },
      "id": "qnOfRXLNUqaz",
      "execution_count": 14,
      "outputs": [
        {
          "output_type": "stream",
          "name": "stdout",
          "text": [
            "Found 9691 images belonging to 151 classes.\n",
            "Found 1127 images belonging to 151 classes.\n",
            "Found 1127 images belonging to 151 classes.\n"
          ]
        }
      ]
    },
    {
      "cell_type": "code",
      "source": [
        "with tf.device('/device:GPU:0'):\n",
        "    resnet = tf.keras.applications.ResNet50(\n",
        "        include_top=False,\n",
        "        weights=\"imagenet\",\n",
        "        input_shape=(224, 224, 3))\n",
        "    model = tf.keras.Sequential()\n",
        "    model.add(resnet)\n",
        "    model.add(tf.keras.layers.GlobalAveragePooling2D())\n",
        "    model.add(tf.keras.layers.Dropout(0.5))\n",
        "    model.add(tf.keras.layers.Dense(n_classes, activation='softmax'))\n",
        "    \n",
        "    model.summary()\n",
        "    recall = tf.keras.callbacks.EarlyStopping(monitor='val_loss',patience=10,restore_best_weights=True)\n",
        "    model.compile(optimizer='adam',loss='categorical_crossentropy',metrics=['accuracy'])\n",
        "    history = model.fit(\n",
        "        train_generator,\n",
        "        steps_per_epoch=train_num//64,  \n",
        "        epochs=30,\n",
        "        validation_data=val_generator,\n",
        "        validation_steps=val_num//32,\n",
        "        workers=8,\n",
        "        callbacks=[recall]\n",
        "    )"
      ],
      "metadata": {
        "colab": {
          "base_uri": "https://localhost:8080/"
        },
        "id": "w4bFPRopkZhs",
        "outputId": "7d361773-6e0e-43ea-f147-8c2f0fdb08e6"
      },
      "id": "w4bFPRopkZhs",
      "execution_count": 15,
      "outputs": [
        {
          "output_type": "stream",
          "name": "stdout",
          "text": [
            "Downloading data from https://storage.googleapis.com/tensorflow/keras-applications/resnet/resnet50_weights_tf_dim_ordering_tf_kernels_notop.h5\n",
            "94773248/94765736 [==============================] - 2s 0us/step\n",
            "94781440/94765736 [==============================] - 2s 0us/step\n",
            "Model: \"sequential\"\n",
            "_________________________________________________________________\n",
            " Layer (type)                Output Shape              Param #   \n",
            "=================================================================\n",
            " resnet50 (Functional)       (None, 7, 7, 2048)        23587712  \n",
            "                                                                 \n",
            " global_average_pooling2d (G  (None, 2048)             0         \n",
            " lobalAveragePooling2D)                                          \n",
            "                                                                 \n",
            " dropout (Dropout)           (None, 2048)              0         \n",
            "                                                                 \n",
            " dense (Dense)               (None, 151)               309399    \n",
            "                                                                 \n",
            "=================================================================\n",
            "Total params: 23,897,111\n",
            "Trainable params: 23,843,991\n",
            "Non-trainable params: 53,120\n",
            "_________________________________________________________________\n",
            "Epoch 1/30\n",
            "151/151 [==============================] - 182s 1s/step - loss: 3.8004 - accuracy: 0.1681 - val_loss: 5.2215 - val_accuracy: 0.0080\n",
            "Epoch 2/30\n",
            "151/151 [==============================] - 166s 1s/step - loss: 1.9847 - accuracy: 0.4795 - val_loss: 5.8906 - val_accuracy: 0.0071\n",
            "Epoch 3/30\n",
            "151/151 [==============================] - 165s 1s/step - loss: 1.3398 - accuracy: 0.6344 - val_loss: 9.0903 - val_accuracy: 0.0196\n",
            "Epoch 4/30\n",
            "151/151 [==============================] - 163s 1s/step - loss: 1.0429 - accuracy: 0.7046 - val_loss: 5.4654 - val_accuracy: 0.0562\n",
            "Epoch 5/30\n",
            "151/151 [==============================] - 163s 1s/step - loss: 0.8592 - accuracy: 0.7600 - val_loss: 2.4787 - val_accuracy: 0.4241\n",
            "Epoch 6/30\n",
            "151/151 [==============================] - 161s 1s/step - loss: 0.7075 - accuracy: 0.7961 - val_loss: 1.6043 - val_accuracy: 0.5973\n",
            "Epoch 7/30\n",
            "151/151 [==============================] - 160s 1s/step - loss: 0.6227 - accuracy: 0.8200 - val_loss: 1.1541 - val_accuracy: 0.7321\n",
            "Epoch 8/30\n",
            "151/151 [==============================] - 161s 1s/step - loss: 0.5369 - accuracy: 0.8467 - val_loss: 1.0573 - val_accuracy: 0.7402\n",
            "Epoch 9/30\n",
            "151/151 [==============================] - 160s 1s/step - loss: 0.4964 - accuracy: 0.8525 - val_loss: 0.8938 - val_accuracy: 0.7589\n",
            "Epoch 10/30\n",
            "151/151 [==============================] - 158s 1s/step - loss: 0.4489 - accuracy: 0.8701 - val_loss: 1.3060 - val_accuracy: 0.7116\n",
            "Epoch 11/30\n",
            "151/151 [==============================] - 158s 1s/step - loss: 0.4190 - accuracy: 0.8718 - val_loss: 1.0919 - val_accuracy: 0.7179\n",
            "Epoch 12/30\n",
            "151/151 [==============================] - 159s 1s/step - loss: 0.3574 - accuracy: 0.8942 - val_loss: 0.6302 - val_accuracy: 0.8420\n",
            "Epoch 13/30\n",
            "151/151 [==============================] - 160s 1s/step - loss: 0.3451 - accuracy: 0.8964 - val_loss: 1.0322 - val_accuracy: 0.7509\n",
            "Epoch 14/30\n",
            "151/151 [==============================] - 159s 1s/step - loss: 0.3238 - accuracy: 0.9020 - val_loss: 1.0363 - val_accuracy: 0.7911\n",
            "Epoch 15/30\n",
            "151/151 [==============================] - 159s 1s/step - loss: 0.3032 - accuracy: 0.9099 - val_loss: 0.8776 - val_accuracy: 0.8000\n",
            "Epoch 16/30\n",
            "151/151 [==============================] - 158s 1s/step - loss: 0.2836 - accuracy: 0.9138 - val_loss: 0.8007 - val_accuracy: 0.8125\n",
            "Epoch 17/30\n",
            "151/151 [==============================] - 159s 1s/step - loss: 0.2542 - accuracy: 0.9228 - val_loss: 0.9107 - val_accuracy: 0.7679\n",
            "Epoch 18/30\n",
            "151/151 [==============================] - 158s 1s/step - loss: 0.2602 - accuracy: 0.9216 - val_loss: 1.0108 - val_accuracy: 0.7750\n",
            "Epoch 19/30\n",
            "151/151 [==============================] - 159s 1s/step - loss: 0.2555 - accuracy: 0.9213 - val_loss: 0.8696 - val_accuracy: 0.8018\n",
            "Epoch 20/30\n",
            "151/151 [==============================] - 159s 1s/step - loss: 0.2244 - accuracy: 0.9320 - val_loss: 0.7537 - val_accuracy: 0.8348\n",
            "Epoch 21/30\n",
            "151/151 [==============================] - 159s 1s/step - loss: 0.2316 - accuracy: 0.9299 - val_loss: 1.0406 - val_accuracy: 0.7759\n",
            "Epoch 22/30\n",
            "151/151 [==============================] - 158s 1s/step - loss: 0.1947 - accuracy: 0.9386 - val_loss: 0.7326 - val_accuracy: 0.8250\n"
          ]
        }
      ]
    },
    {
      "cell_type": "code",
      "source": [
        "# tf.keras.optimizers.Adam(learning_rate=0.0005, decay=)"
      ],
      "metadata": {
        "id": "zXJANAW5kl0B"
      },
      "id": "zXJANAW5kl0B",
      "execution_count": 16,
      "outputs": []
    },
    {
      "cell_type": "code",
      "source": [
        "history_dict = history.history\n",
        "loss = history_dict['loss']\n",
        "val_loss = history_dict['val_loss']\n",
        "\n",
        "acc = history_dict['accuracy']\n",
        "val_acc = history_dict['val_accuracy']\n",
        "\n",
        "epochs = range(1, len(loss) + 1)\n",
        "\n",
        "plt.figure(figsize=(10, 4))\n",
        "\n",
        "plt.subplot(121)\n",
        "\n",
        "plt.plot(epochs, loss, 'r', label='training loss')\n",
        "plt.plot(epochs, val_loss, 'b', label='validation loss')\n",
        "plt.xlabel('Epochs')\n",
        "plt.ylabel('Loss')\n",
        "plt.legend()\n",
        "\n",
        "plt.subplot(122)\n",
        "\n",
        "plt.plot(epochs, acc, 'r', label='training acc')\n",
        "plt.plot(epochs, val_acc, 'b', label='validation acc')\n",
        "plt.xlabel('Epochs')\n",
        "plt.ylabel('Acc')\n",
        "plt.legend()\n",
        "\n",
        "plt.tight_layout()\n",
        "plt.show()"
      ],
      "metadata": {
        "colab": {
          "base_uri": "https://localhost:8080/",
          "height": 297
        },
        "id": "Oh5JxJ2hpvQ6",
        "outputId": "caf66a2d-e58f-4b71-9508-ca1f5e5c439b"
      },
      "id": "Oh5JxJ2hpvQ6",
      "execution_count": 17,
      "outputs": [
        {
          "output_type": "display_data",
          "data": {
            "image/png": "[encoded data removed]",
            "text/plain": [
              "<Figure size 720x288 with 2 Axes>"
            ]
          },
          "metadata": {
            "needs_background": "light"
          }
        }
      ]
    },
    {
      "cell_type": "code",
      "source": [
        "from sklearn.metrics import accuracy_score\n",
        "\n",
        "pred = model.predict(val_generator)\n",
        "\n",
        "predicted_class_indices=np.argmax(pred, axis=1)\n",
        "\n",
        "labels = (train_generator.class_indices)\n",
        "labels = dict((v,k) for k,v in labels.items())\n",
        "predictions = [labels[k] for k in predicted_class_indices]\n",
        "\n",
        "filenames=test_generator.filenames\n",
        "results=pd.DataFrame({\"Filename\":filenames,\n",
        "                      \"Predictions\":predictions})\n",
        "\n",
        "y_true = [filename.split('/')[0] for filename in filenames]\n",
        "\n",
        "model.save(ROOT + 'resnet_augmentation.h5')"
      ],
      "metadata": {
        "colab": {
          "base_uri": "https://localhost:8080/"
        },
        "id": "UklQtjEFpv9H",
        "outputId": "39ad2ac2-8681-4e73-8f2a-a8a1d24fe708"
      },
      "id": "UklQtjEFpv9H",
      "execution_count": 21,
      "outputs": [
        {
          "output_type": "stream",
          "name": "stdout",
          "text": [
            "0.009760425909494233\n"
          ]
        },
        {
          "output_type": "stream",
          "name": "stderr",
          "text": [
            "/usr/local/lib/python3.7/dist-packages/keras/engine/functional.py:1410: CustomMaskWarning: Custom mask layers require a config and must override get_config. When loading, the custom mask layer must be passed to the custom_objects argument.\n",
            "  layer_config = serialize_layer_fn(layer)\n"
          ]
        }
      ]
    },
    {
      "cell_type": "code",
      "source": [
        "with tf.device('/device:GPU:0'):\n",
        "    resnet = tf.keras.applications.ResNet50(\n",
        "        include_top=False,\n",
        "        weights=\"imagenet\",\n",
        "        input_shape=(224, 224, 3))\n",
        "    model = tf.keras.Sequential()\n",
        "    model.add(resnet)\n",
        "    model.add(tf.keras.layers.GlobalAveragePooling2D())\n",
        "    model.add(tf.keras.layers.Dropout(0.5))\n",
        "    model.add(tf.keras.layers.Dense(n_classes, activation='softmax'))\n",
        "    \n",
        "    model.summary()\n",
        "    recall = tf.keras.callbacks.EarlyStopping(monitor='val_loss',patience=10,restore_best_weights=True)\n",
        "    model.compile(optimizer='adam',loss='categorical_crossentropy',metrics=['accuracy'])\n",
        "    history = model.fit(\n",
        "        train_generator,\n",
        "        steps_per_epoch=train_num//64,  \n",
        "        epochs=10,\n",
        "        validation_data=val_generator,\n",
        "        validation_steps=val_num//32,\n",
        "        # workers=8,\n",
        "        callbacks=[recall]\n",
        "    )"
      ],
      "metadata": {
        "colab": {
          "base_uri": "https://localhost:8080/"
        },
        "id": "ezPUv2-Jp_Vc",
        "outputId": "f8e64d03-8dcb-4efc-eec1-72aa527b6558"
      },
      "id": "ezPUv2-Jp_Vc",
      "execution_count": 23,
      "outputs": [
        {
          "output_type": "stream",
          "name": "stdout",
          "text": [
            "Model: \"sequential_2\"\n",
            "_________________________________________________________________\n",
            " Layer (type)                Output Shape              Param #   \n",
            "=================================================================\n",
            " resnet50 (Functional)       (None, 7, 7, 2048)        23587712  \n",
            "                                                                 \n",
            " global_average_pooling2d_2   (None, 2048)             0         \n",
            " (GlobalAveragePooling2D)                                        \n",
            "                                                                 \n",
            " dropout_2 (Dropout)         (None, 2048)              0         \n",
            "                                                                 \n",
            " dense_2 (Dense)             (None, 151)               309399    \n",
            "                                                                 \n",
            "=================================================================\n",
            "Total params: 23,897,111\n",
            "Trainable params: 23,843,991\n",
            "Non-trainable params: 53,120\n",
            "_________________________________________________________________\n",
            "Epoch 1/10\n",
            "151/151 [==============================] - 207s 1s/step - loss: 3.6249 - accuracy: 0.2032 - val_loss: 5.2454 - val_accuracy: 0.0071\n",
            "Epoch 2/10\n",
            "151/151 [==============================] - 200s 1s/step - loss: 1.8355 - accuracy: 0.5097 - val_loss: 5.2378 - val_accuracy: 0.0089\n",
            "Epoch 3/10\n",
            "151/151 [==============================] - 199s 1s/step - loss: 1.2429 - accuracy: 0.6620 - val_loss: 6.0306 - val_accuracy: 0.0339\n",
            "Epoch 4/10\n",
            "151/151 [==============================] - 196s 1s/step - loss: 0.9739 - accuracy: 0.7295 - val_loss: 6.2392 - val_accuracy: 0.0750\n",
            "Epoch 5/10\n",
            "151/151 [==============================] - 193s 1s/step - loss: 0.8209 - accuracy: 0.7687 - val_loss: 2.3093 - val_accuracy: 0.4598\n",
            "Epoch 6/10\n",
            "151/151 [==============================] - 196s 1s/step - loss: 0.6971 - accuracy: 0.7985 - val_loss: 1.9239 - val_accuracy: 0.5723\n",
            "Epoch 7/10\n",
            "151/151 [==============================] - 194s 1s/step - loss: 0.6166 - accuracy: 0.8225 - val_loss: 1.1851 - val_accuracy: 0.7009\n",
            "Epoch 8/10\n",
            "151/151 [==============================] - 196s 1s/step - loss: 0.5299 - accuracy: 0.8463 - val_loss: 1.0815 - val_accuracy: 0.7339\n",
            "Epoch 9/10\n",
            "151/151 [==============================] - 193s 1s/step - loss: 0.4737 - accuracy: 0.8603 - val_loss: 1.1189 - val_accuracy: 0.7116\n",
            "Epoch 10/10\n",
            "151/151 [==============================] - 192s 1s/step - loss: 0.4393 - accuracy: 0.8709 - val_loss: 1.1000 - val_accuracy: 0.7384\n"
          ]
        }
      ]
    },
    {
      "cell_type": "code",
      "source": [
        "scores = model.evaluate_generator(test_generator, steps=5)\n",
        "print(\"%s: %.2f%%\" %(model.metrics_names[1], scores[1]*100))"
      ],
      "metadata": {
        "colab": {
          "base_uri": "https://localhost:8080/"
        },
        "id": "BdLOWDX1tELa",
        "outputId": "ae050511-85a3-4c4b-f7b4-485b04fdcb05"
      },
      "id": "BdLOWDX1tELa",
      "execution_count": 24,
      "outputs": [
        {
          "output_type": "stream",
          "name": "stderr",
          "text": [
            "/usr/local/lib/python3.7/dist-packages/ipykernel_launcher.py:1: UserWarning: `Model.evaluate_generator` is deprecated and will be removed in a future version. Please use `Model.evaluate`, which supports generators.\n",
            "  \"\"\"Entry point for launching an IPython kernel.\n"
          ]
        },
        {
          "output_type": "stream",
          "name": "stdout",
          "text": [
            "accuracy: 70.63%\n"
          ]
        }
      ]
    },
    {
      "cell_type": "code",
      "source": [
        "print(\"-- Predict --\")\n",
        "output = model.predict_generator(test_generator)\n",
        "np.set_printoptions(formatter={'float': lambda x: \"{0:0.3f}\".format(x)})\n",
        "print(test_generator.class_indices)\n",
        "print(output[0])"
      ],
      "metadata": {
        "colab": {
          "base_uri": "https://localhost:8080/"
        },
        "id": "1ZEsF7aa2gbV",
        "outputId": "80d40ecd-f101-48b8-a6ec-af6b7f384eb7"
      },
      "id": "1ZEsF7aa2gbV",
      "execution_count": 32,
      "outputs": [
        {
          "output_type": "stream",
          "name": "stdout",
          "text": [
            "-- Predict --\n"
          ]
        },
        {
          "output_type": "stream",
          "name": "stderr",
          "text": [
            "/usr/local/lib/python3.7/dist-packages/ipykernel_launcher.py:2: UserWarning: `Model.predict_generator` is deprecated and will be removed in a future version. Please use `Model.predict`, which supports generators.\n",
            "  \n"
          ]
        },
        {
          "output_type": "stream",
          "name": "stdout",
          "text": [
            "{'Abra': 0, 'Aerodactyl': 1, 'Alakazam': 2, 'Arbok': 3, 'Arcanine': 4, 'Articuno': 5, 'Beedrill': 6, 'Bellsprout': 7, 'Blastoise': 8, 'Bulbasaur': 9, 'Butterfree': 10, 'Caterpie': 11, 'Chansey': 12, 'Charizard': 13, 'Charmander': 14, 'Charmeleon': 15, 'Clefable': 16, 'Clefairy': 17, 'Cloyster': 18, 'Cubone': 19, 'Dewgong': 20, 'Diglett': 21, 'Ditto': 22, 'Dodrio': 23, 'Doduo': 24, 'Dragonair': 25, 'Dragonite': 26, 'Dratini': 27, 'Drowzee': 28, 'Dugtrio': 29, 'Eevee': 30, 'Ekans': 31, 'Electabuzz': 32, 'Electrode': 33, 'Exeggcute': 34, 'Exeggutor': 35, 'Farfetchd': 36, 'Fearow': 37, 'Flareon': 38, 'Gastly': 39, 'Gengar': 40, 'Geodude': 41, 'Gloom': 42, 'Golbat': 43, 'Goldeen': 44, 'Golduck': 45, 'Golem': 46, 'Graveler': 47, 'Grimer': 48, 'Growlithe': 49, 'Gyarados': 50, 'Haunter': 51, 'Hitmonchan': 52, 'Hitmonlee': 53, 'Horsea': 54, 'Hypno': 55, 'Ivysaur': 56, 'Jigglypuff': 57, 'Jolteon': 58, 'Jynx': 59, 'Kabuto': 60, 'Kabutops': 61, 'Kadabra': 62, 'Kakuna': 63, 'Kangaskhan': 64, 'Kingler': 65, 'Koffing': 66, 'Krabby': 67, 'Lapras': 68, 'Lickitung': 69, 'Machamp': 70, 'Machoke': 71, 'Machop': 72, 'Magikarp': 73, 'Magmar': 74, 'Magnemite': 75, 'Magneton': 76, 'Mankey': 77, 'Marowak': 78, 'Meowth': 79, 'Metapod': 80, 'Mew': 81, 'Mewtwo': 82, 'Moltres': 83, 'Mr.Mime': 84, 'Muk': 85, 'Nidoking': 86, 'Nidoqueen': 87, 'Nidoran-f': 88, 'Nidoran-m': 89, 'Nidorina': 90, 'Nidorino': 91, 'Ninetales': 92, 'Oddish': 93, 'Omanyte': 94, 'Omastar': 95, 'Onix': 96, 'Paras': 97, 'Parasect': 98, 'Persian': 99, 'Pidgeot': 100, 'Pidgeotto': 101, 'Pidgey': 102, 'Pikachu': 103, 'Pinsir': 104, 'Poliwag': 105, 'Poliwhirl': 106, 'Poliwrath': 107, 'Ponyta': 108, 'Porygon': 109, 'Primeape': 110, 'Psyduck': 111, 'Raichu': 112, 'Rapidash': 113, 'Raticate': 114, 'Rattata': 115, 'Rhydon': 116, 'Rhyhorn': 117, 'Sandshrew': 118, 'Sandslash': 119, 'Scyther': 120, 'Seadra': 121, 'Seaking': 122, 'Seel': 123, 'Shellder': 124, 'Slowbro': 125, 'Slowpoke': 126, 'Snorlax': 127, 'Spearow': 128, 'Squirtle': 129, 'Starmie': 130, 'Staryu': 131, 'Tangela': 132, 'Tauros': 133, 'Tentacool': 134, 'Tentacruel': 135, 'Vaporeon': 136, 'Venomoth': 137, 'Venonat': 138, 'Venusaur': 139, 'Victreebel': 140, 'Vileplume': 141, 'Voltorb': 142, 'Vulpix': 143, 'Wartortle': 144, 'Weedle': 145, 'Weepinbell': 146, 'Weezing': 147, 'Wigglytuff': 148, 'Zapdos': 149, 'Zubat': 150}\n",
            "[0.000 0.000 0.000 0.000 0.000 0.000 0.000 0.000 0.000 0.000 0.000 0.000\n",
            " 0.000 0.000 0.000 0.000 0.000 0.000 0.000 0.000 0.000 0.000 0.000 0.000\n",
            " 0.000 0.000 0.000 0.000 0.000 0.000 0.000 0.000 0.000 0.000 0.000 0.000\n",
            " 0.000 0.000 1.000 0.000 0.000 0.000 0.000 0.000 0.000 0.000 0.000 0.000\n",
            " 0.000 0.000 0.000 0.000 0.000 0.000 0.000 0.000 0.000 0.000 0.000 0.000\n",
            " 0.000 0.000 0.000 0.000 0.000 0.000 0.000 0.000 0.000 0.000 0.000 0.000\n",
            " 0.000 0.000 0.000 0.000 0.000 0.000 0.000 0.000 0.000 0.000 0.000 0.000\n",
            " 0.000 0.000 0.000 0.000 0.000 0.000 0.000 0.000 0.000 0.000 0.000 0.000\n",
            " 0.000 0.000 0.000 0.000 0.000 0.000 0.000 0.000 0.000 0.000 0.000 0.000\n",
            " 0.000 0.000 0.000 0.000 0.000 0.000 0.000 0.000 0.000 0.000 0.000 0.000\n",
            " 0.000 0.000 0.000 0.000 0.000 0.000 0.000 0.000 0.000 0.000 0.000 0.000\n",
            " 0.000 0.000 0.000 0.000 0.000 0.000 0.000 0.000 0.000 0.000 0.000 0.000\n",
            " 0.000 0.000 0.000 0.000 0.000 0.000 0.000]\n"
          ]
        }
      ]
    },
    {
      "cell_type": "code",
      "source": [
        "predicted_class_indices=np.argmax(output, axis=1)\n",
        "\n",
        "predictions = [labels[k] for k in predicted_class_indices]\n",
        "\n",
        "filenames=test_generator.filenames\n",
        "results=pd.DataFrame({\"Filename\":filenames,\n",
        "                      \"Predictions\":predictions})\n",
        "results"
      ],
      "metadata": {
        "colab": {
          "base_uri": "https://localhost:8080/",
          "height": 655
        },
        "id": "XR0n-tHQ2hkC",
        "outputId": "d7dd0492-a96a-4455-9c1d-3c1068b78f43"
      },
      "id": "XR0n-tHQ2hkC",
      "execution_count": 36,
      "outputs": [
        {
          "output_type": "execute_result",
          "data": {
            "text/html": [
              "\n",
              "  <div id=\"df-44548b2e-5ee0-44c6-866d-a07db70cdc95\">\n",
              "    <div class=\"colab-df-container\">\n",
              "      <div>\n",
              "<style scoped>\n",
              "    .dataframe tbody tr th:only-of-type {\n",
              "        vertical-align: middle;\n",
              "    }\n",
              "\n",
              "    .dataframe tbody tr th {\n",
              "        vertical-align: top;\n",
              "    }\n",
              "\n",
              "    .dataframe thead th {\n",
              "        text-align: right;\n",
              "    }\n",
              "</style>\n",
              "<table border=\"1\" class=\"dataframe\">\n",
              "  <thead>\n",
              "    <tr style=\"text-align: right;\">\n",
              "      <th></th>\n",
              "      <th>Filename</th>\n",
              "      <th>Predictions</th>\n",
              "    </tr>\n",
              "  </thead>\n",
              "  <tbody>\n",
              "    <tr>\n",
              "      <th>0</th>\n",
              "      <td>Abra/Abra20.jpg</td>\n",
              "      <td>Flareon</td>\n",
              "    </tr>\n",
              "    <tr>\n",
              "      <th>1</th>\n",
              "      <td>Abra/Abra21.jpg</td>\n",
              "      <td>Nidoqueen</td>\n",
              "    </tr>\n",
              "    <tr>\n",
              "      <th>2</th>\n",
              "      <td>Abra/Abra22.jpg</td>\n",
              "      <td>Machoke</td>\n",
              "    </tr>\n",
              "    <tr>\n",
              "      <th>3</th>\n",
              "      <td>Abra/Abra34.jpg</td>\n",
              "      <td>Gloom</td>\n",
              "    </tr>\n",
              "    <tr>\n",
              "      <th>4</th>\n",
              "      <td>Abra/Abra35.jpg</td>\n",
              "      <td>Tentacruel</td>\n",
              "    </tr>\n",
              "    <tr>\n",
              "      <th>...</th>\n",
              "      <td>...</td>\n",
              "      <td>...</td>\n",
              "    </tr>\n",
              "    <tr>\n",
              "      <th>1122</th>\n",
              "      <td>Zubat/Zubat26.jpg</td>\n",
              "      <td>Sandshrew</td>\n",
              "    </tr>\n",
              "    <tr>\n",
              "      <th>1123</th>\n",
              "      <td>Zubat/Zubat27.jpg</td>\n",
              "      <td>Shellder</td>\n",
              "    </tr>\n",
              "    <tr>\n",
              "      <th>1124</th>\n",
              "      <td>Zubat/Zubat31.jpg</td>\n",
              "      <td>Nidorino</td>\n",
              "    </tr>\n",
              "    <tr>\n",
              "      <th>1125</th>\n",
              "      <td>Zubat/Zubat32.jpg</td>\n",
              "      <td>Lickitung</td>\n",
              "    </tr>\n",
              "    <tr>\n",
              "      <th>1126</th>\n",
              "      <td>Zubat/Zubat33.jpg</td>\n",
              "      <td>Clefable</td>\n",
              "    </tr>\n",
              "  </tbody>\n",
              "</table>\n",
              "<p>1127 rows × 2 columns</p>\n",
              "</div>\n",
              "      <button class=\"colab-df-convert\" onclick=\"convertToInteractive('df-44548b2e-5ee0-44c6-866d-a07db70cdc95')\"\n",
              "              title=\"Convert this dataframe to an interactive table.\"\n",
              "              style=\"display:none;\">\n",
              "        \n",
              "  <svg xmlns=\"http://www.w3.org/2000/svg\" height=\"24px\"viewBox=\"0 0 24 24\"\n",
              "       width=\"24px\">\n",
              "    <path d=\"M0 0h24v24H0V0z\" fill=\"none\"/>\n",
              "    <path d=\"M18.56 5.44l.94 2.06.94-2.06 2.06-.94-2.06-.94-.94-2.06-.94 2.06-2.06.94zm-11 1L8.5 8.5l.94-2.06 2.06-.94-2.06-.94L8.5 2.5l-.94 2.06-2.06.94zm10 10l.94 2.06.94-2.06 2.06-.94-2.06-.94-.94-2.06-.94 2.06-2.06.94z\"/><path d=\"M17.41 7.96l-1.37-1.37c-.4-.4-.92-.59-1.43-.59-.52 0-1.04.2-1.43.59L10.3 9.45l-7.72 7.72c-.78.78-.78 2.05 0 2.83L4 21.41c.39.39.9.59 1.41.59.51 0 1.02-.2 1.41-.59l7.78-7.78 2.81-2.81c.8-.78.8-2.07 0-2.86zM5.41 20L4 18.59l7.72-7.72 1.47 1.35L5.41 20z\"/>\n",
              "  </svg>\n",
              "      </button>\n",
              "      \n",
              "  <style>\n",
              "    .colab-df-container {\n",
              "      display:flex;\n",
              "      flex-wrap:wrap;\n",
              "      gap: 12px;\n",
              "    }\n",
              "\n",
              "    .colab-df-convert {\n",
              "      background-color: #E8F0FE;\n",
              "      border: none;\n",
              "      border-radius: 50%;\n",
              "      cursor: pointer;\n",
              "      display: none;\n",
              "      fill: #1967D2;\n",
              "      height: 32px;\n",
              "      padding: 0 0 0 0;\n",
              "      width: 32px;\n",
              "    }\n",
              "\n",
              "    .colab-df-convert:hover {\n",
              "      background-color: #E2EBFA;\n",
              "      box-shadow: 0px 1px 2px rgba(60, 64, 67, 0.3), 0px 1px 3px 1px rgba(60, 64, 67, 0.15);\n",
              "      fill: #174EA6;\n",
              "    }\n",
              "\n",
              "    [theme=dark] .colab-df-convert {\n",
              "      background-color: #3B4455;\n",
              "      fill: #D2E3FC;\n",
              "    }\n",
              "\n",
              "    [theme=dark] .colab-df-convert:hover {\n",
              "      background-color: #434B5C;\n",
              "      box-shadow: 0px 1px 3px 1px rgba(0, 0, 0, 0.15);\n",
              "      filter: drop-shadow(0px 1px 2px rgba(0, 0, 0, 0.3));\n",
              "      fill: #FFFFFF;\n",
              "    }\n",
              "  </style>\n",
              "\n",
              "      <script>\n",
              "        const buttonEl =\n",
              "          document.querySelector('#df-44548b2e-5ee0-44c6-866d-a07db70cdc95 button.colab-df-convert');\n",
              "        buttonEl.style.display =\n",
              "          google.colab.kernel.accessAllowed ? 'block' : 'none';\n",
              "\n",
              "        async function convertToInteractive(key) {\n",
              "          const element = document.querySelector('#df-44548b2e-5ee0-44c6-866d-a07db70cdc95');\n",
              "          const dataTable =\n",
              "            await google.colab.kernel.invokeFunction('convertToInteractive',\n",
              "                                                     [key], {});\n",
              "          if (!dataTable) return;\n",
              "\n",
              "          const docLinkHtml = 'Like what you see? Visit the ' +\n",
              "            '<a target=\"_blank\" href=https://colab.research.google.com/notebooks/data_table.ipynb>data table notebook</a>'\n",
              "            + ' to learn more about interactive tables.';\n",
              "          element.innerHTML = '';\n",
              "          dataTable['output_type'] = 'display_data';\n",
              "          await google.colab.output.renderOutput(dataTable, element);\n",
              "          const docLink = document.createElement('div');\n",
              "          docLink.innerHTML = docLinkHtml;\n",
              "          element.appendChild(docLink);\n",
              "        }\n",
              "      </script>\n",
              "    </div>\n",
              "  </div>\n",
              "  "
            ],
            "text/plain": [
              "               Filename Predictions\n",
              "0       Abra/Abra20.jpg     Flareon\n",
              "1       Abra/Abra21.jpg   Nidoqueen\n",
              "2       Abra/Abra22.jpg     Machoke\n",
              "3       Abra/Abra34.jpg       Gloom\n",
              "4       Abra/Abra35.jpg  Tentacruel\n",
              "...                 ...         ...\n",
              "1122  Zubat/Zubat26.jpg   Sandshrew\n",
              "1123  Zubat/Zubat27.jpg    Shellder\n",
              "1124  Zubat/Zubat31.jpg    Nidorino\n",
              "1125  Zubat/Zubat32.jpg   Lickitung\n",
              "1126  Zubat/Zubat33.jpg    Clefable\n",
              "\n",
              "[1127 rows x 2 columns]"
            ]
          },
          "metadata": {},
          "execution_count": 36
        }
      ]
    },
    {
      "cell_type": "code",
      "source": [
        "raw = tf.io.read_file('/content/PokemonData/test/Abra/Abra34.jpg')"
      ],
      "metadata": {
        "id": "LqEJLWJK20iG"
      },
      "id": "LqEJLWJK20iG",
      "execution_count": 105,
      "outputs": []
    },
    {
      "cell_type": "code",
      "source": [
        "image = tf.image.decode_jpeg(raw, channels=3)"
      ],
      "metadata": {
        "id": "gFhKwL4S5LsD"
      },
      "id": "gFhKwL4S5LsD",
      "execution_count": 106,
      "outputs": []
    },
    {
      "cell_type": "code",
      "source": [
        "image = tf.image.resize(image, (224, 224))\n",
        "a = np.array([image])\n",
        "for b in a[0]:\n",
        "    print(b)\n",
        "# pred = model.predict(np.array([image]).shape)"
      ],
      "metadata": {
        "id": "CEEE3PuE4i3O"
      },
      "id": "CEEE3PuE4i3O",
      "execution_count": null,
      "outputs": []
    },
    {
      "cell_type": "code",
      "source": [
        "image = tf.cast(image, tf.float32) / 255.0\n",
        "image = tf.image.resize(image, (224, 224))\n",
        "# a = np.array([image])\n",
        "image\n",
        "pred = model.predict(np.array([image]))"
      ],
      "metadata": {
        "id": "Hv-iOXub6VOw"
      },
      "id": "Hv-iOXub6VOw",
      "execution_count": 107,
      "outputs": []
    },
    {
      "cell_type": "code",
      "source": [
        "p_c=np.argmax(pred)"
      ],
      "metadata": {
        "id": "6COAl-pN4ngf"
      },
      "id": "6COAl-pN4ngf",
      "execution_count": 111,
      "outputs": []
    },
    {
      "cell_type": "code",
      "source": [
        "labels[p_c]"
      ],
      "metadata": {
        "colab": {
          "base_uri": "https://localhost:8080/",
          "height": 35
        },
        "id": "66eBftnu7BK4",
        "outputId": "e6eab9ac-aaf9-4eb7-e77b-c1b4018def0f"
      },
      "id": "66eBftnu7BK4",
      "execution_count": 113,
      "outputs": [
        {
          "output_type": "execute_result",
          "data": {
            "application/vnd.google.colaboratory.intrinsic+json": {
              "type": "string"
            },
            "text/plain": [
              "'Moltres'"
            ]
          },
          "metadata": {},
          "execution_count": 113
        }
      ]
    },
    {
      "cell_type": "code",
      "source": [
        "pred"
      ],
      "metadata": {
        "colab": {
          "base_uri": "https://localhost:8080/"
        },
        "id": "MkFEaSkg73HO",
        "outputId": "492080c2-a4ca-4ed7-ea77-7a2c7c5cc403"
      },
      "id": "MkFEaSkg73HO",
      "execution_count": 108,
      "outputs": [
        {
          "output_type": "execute_result",
          "data": {
            "text/plain": [
              "array([[0.015, 0.000, 0.012, 0.000, 0.000, 0.000, 0.000, 0.000, 0.000,\n",
              "        0.000, 0.000, 0.000, 0.000, 0.001, 0.003, 0.000, 0.000, 0.000,\n",
              "        0.000, 0.000, 0.000, 0.000, 0.000, 0.000, 0.000, 0.000, 0.001,\n",
              "        0.000, 0.000, 0.000, 0.000, 0.000, 0.000, 0.000, 0.000, 0.000,\n",
              "        0.000, 0.000, 0.002, 0.000, 0.000, 0.000, 0.000, 0.000, 0.000,\n",
              "        0.000, 0.000, 0.000, 0.000, 0.000, 0.000, 0.000, 0.000, 0.000,\n",
              "        0.000, 0.002, 0.000, 0.000, 0.000, 0.000, 0.000, 0.000, 0.000,\n",
              "        0.000, 0.000, 0.000, 0.000, 0.000, 0.000, 0.000, 0.000, 0.000,\n",
              "        0.000, 0.000, 0.000, 0.000, 0.000, 0.000, 0.000, 0.000, 0.000,\n",
              "        0.000, 0.000, 0.942, 0.000, 0.000, 0.000, 0.000, 0.000, 0.000,\n",
              "        0.000, 0.000, 0.000, 0.000, 0.000, 0.000, 0.000, 0.000, 0.000,\n",
              "        0.000, 0.002, 0.000, 0.001, 0.009, 0.000, 0.000, 0.000, 0.000,\n",
              "        0.009, 0.000, 0.000, 0.000, 0.000, 0.002, 0.000, 0.000, 0.000,\n",
              "        0.000, 0.000, 0.000, 0.000, 0.000, 0.000, 0.000, 0.000, 0.000,\n",
              "        0.000, 0.000, 0.000, 0.000, 0.000, 0.000, 0.000, 0.000, 0.000,\n",
              "        0.000, 0.000, 0.000, 0.000, 0.000, 0.001, 0.000, 0.000, 0.000,\n",
              "        0.000, 0.000, 0.000, 0.000, 0.000, 0.000, 0.000]], dtype=float32)"
            ]
          },
          "metadata": {},
          "execution_count": 108
        }
      ]
    },
    {
      "cell_type": "code",
      "source": [
        "m2 = tf.keras.models.load_model(ROOT + 'resnet_overfitting.h5')"
      ],
      "metadata": {
        "id": "qm2ki-UKASHR"
      },
      "id": "qm2ki-UKASHR",
      "execution_count": 118,
      "outputs": []
    },
    {
      "cell_type": "code",
      "source": [
        "scores = m2.evaluate_generator(test_generator, steps=5)\n",
        "print(\"%s: %.2f%%\" %(m2.metrics_names[1], scores[1]*100))"
      ],
      "metadata": {
        "colab": {
          "base_uri": "https://localhost:8080/"
        },
        "id": "K07YdQ8yBbee",
        "outputId": "abcde6a8-61bd-4ae7-cb29-817d5ce16a17"
      },
      "id": "K07YdQ8yBbee",
      "execution_count": 119,
      "outputs": [
        {
          "output_type": "stream",
          "name": "stderr",
          "text": [
            "/usr/local/lib/python3.7/dist-packages/ipykernel_launcher.py:1: UserWarning: `Model.evaluate_generator` is deprecated and will be removed in a future version. Please use `Model.evaluate`, which supports generators.\n",
            "  \"\"\"Entry point for launching an IPython kernel.\n"
          ]
        },
        {
          "output_type": "stream",
          "name": "stdout",
          "text": [
            "accuracy: 90.62%\n"
          ]
        }
      ]
    },
    {
      "cell_type": "code",
      "source": [
        "raw = tf.io.read_file('/content/PokemonData/test/Abra/Abra34.jpg')\n",
        "image = tf.image.decode_jpeg(raw, channels=3)\n",
        "image = tf.cast(image, tf.float32) / 255.0\n",
        "image = tf.image.resize(image, (224, 224))\n",
        "pred = m2.predict(np.array([image]))"
      ],
      "metadata": {
        "id": "_6ZNp_55Bl0W"
      },
      "id": "_6ZNp_55Bl0W",
      "execution_count": 120,
      "outputs": []
    },
    {
      "cell_type": "code",
      "source": [
        "p_c=np.argmax(pred)\n",
        "labels[p_c]"
      ],
      "metadata": {
        "colab": {
          "base_uri": "https://localhost:8080/",
          "height": 35
        },
        "id": "FXU0BEhpB-we",
        "outputId": "003a9086-e36f-4aa5-d139-a01b4f4dde24"
      },
      "id": "FXU0BEhpB-we",
      "execution_count": 121,
      "outputs": [
        {
          "output_type": "execute_result",
          "data": {
            "application/vnd.google.colaboratory.intrinsic+json": {
              "type": "string"
            },
            "text/plain": [
              "'Abra'"
            ]
          },
          "metadata": {},
          "execution_count": 121
        }
      ]
    },
    {
      "cell_type": "code",
      "source": [
        "with tf.device('/device:GPU:0'):\n",
        "    resnet = tf.keras.applications.ResNet50(\n",
        "        include_top=False,\n",
        "        weights=\"imagenet\",\n",
        "        input_shape=(224, 224, 3))\n",
        "    model = tf.keras.Sequential()\n",
        "    model.add(resnet)\n",
        "    model.add(tf.keras.layers.GlobalAveragePooling2D())\n",
        "    model.add(tf.keras.layers.Dropout(0.2))\n",
        "    model.add(tf.keras.layers.Dense(n_classes, activation='softmax'))\n",
        "    \n",
        "    model.summary()\n",
        "    recall = tf.keras.callbacks.EarlyStopping(monitor='val_loss',patience=10,restore_best_weights=True)\n",
        "    model.compile(optimizer='adam',loss='categorical_crossentropy',metrics=['accuracy'])\n",
        "    history = model.fit(\n",
        "        train_generator,\n",
        "        steps_per_epoch=train_num//64,  \n",
        "        epochs=30,\n",
        "        validation_data=val_generator,\n",
        "        validation_steps=val_num//32,\n",
        "        workers=8,\n",
        "        callbacks=[recall]\n",
        "    )"
      ],
      "metadata": {
        "colab": {
          "base_uri": "https://localhost:8080/"
        },
        "id": "o_BYZ7iaCEGK",
        "outputId": "a3e90c3f-f7b9-483c-8d0e-7f11fa5d6f24"
      },
      "id": "o_BYZ7iaCEGK",
      "execution_count": 122,
      "outputs": [
        {
          "output_type": "stream",
          "name": "stdout",
          "text": [
            "Model: \"sequential_3\"\n",
            "_________________________________________________________________\n",
            " Layer (type)                Output Shape              Param #   \n",
            "=================================================================\n",
            " resnet50 (Functional)       (None, 7, 7, 2048)        23587712  \n",
            "                                                                 \n",
            " global_average_pooling2d_3   (None, 2048)             0         \n",
            " (GlobalAveragePooling2D)                                        \n",
            "                                                                 \n",
            " dropout_3 (Dropout)         (None, 2048)              0         \n",
            "                                                                 \n",
            " dense_3 (Dense)             (None, 151)               309399    \n",
            "                                                                 \n",
            "=================================================================\n",
            "Total params: 23,897,111\n",
            "Trainable params: 23,843,991\n",
            "Non-trainable params: 53,120\n",
            "_________________________________________________________________\n",
            "Epoch 1/30\n",
            "151/151 [==============================] - 184s 1s/step - loss: 3.1665 - accuracy: 0.2731 - val_loss: 13.7825 - val_accuracy: 0.0071\n",
            "Epoch 2/30\n",
            "151/151 [==============================] - 164s 1s/step - loss: 1.4639 - accuracy: 0.6069 - val_loss: 5.8190 - val_accuracy: 0.0071\n",
            "Epoch 3/30\n",
            "151/151 [==============================] - 164s 1s/step - loss: 0.9975 - accuracy: 0.7237 - val_loss: 5.4403 - val_accuracy: 0.0250\n",
            "Epoch 4/30\n",
            "151/151 [==============================] - 160s 1s/step - loss: 0.7616 - accuracy: 0.7883 - val_loss: 5.7860 - val_accuracy: 0.1179\n",
            "Epoch 5/30\n",
            "151/151 [==============================] - 159s 1s/step - loss: 0.6390 - accuracy: 0.8180 - val_loss: 4.3861 - val_accuracy: 0.3214\n",
            "Epoch 6/30\n",
            "151/151 [==============================] - 160s 1s/step - loss: 0.5164 - accuracy: 0.8456 - val_loss: 2.0740 - val_accuracy: 0.5518\n",
            "Epoch 7/30\n",
            "151/151 [==============================] - 160s 1s/step - loss: 0.4607 - accuracy: 0.8632 - val_loss: 1.1816 - val_accuracy: 0.7116\n",
            "Epoch 8/30\n",
            "151/151 [==============================] - 159s 1s/step - loss: 0.4085 - accuracy: 0.8777 - val_loss: 1.5750 - val_accuracy: 0.6598\n",
            "Epoch 9/30\n",
            "151/151 [==============================] - 159s 1s/step - loss: 0.3573 - accuracy: 0.8965 - val_loss: 0.8903 - val_accuracy: 0.7634\n",
            "Epoch 10/30\n",
            "151/151 [==============================] - 162s 1s/step - loss: 0.3181 - accuracy: 0.9061 - val_loss: 1.1451 - val_accuracy: 0.7455\n",
            "Epoch 11/30\n",
            "151/151 [==============================] - 157s 997ms/step - loss: 0.3170 - accuracy: 0.9064 - val_loss: 0.9488 - val_accuracy: 0.7429\n",
            "Epoch 12/30\n",
            "151/151 [==============================] - 158s 994ms/step - loss: 0.2654 - accuracy: 0.9208 - val_loss: 1.3116 - val_accuracy: 0.7000\n",
            "Epoch 13/30\n",
            "151/151 [==============================] - 158s 999ms/step - loss: 0.2541 - accuracy: 0.9207 - val_loss: 1.2746 - val_accuracy: 0.6920\n",
            "Epoch 14/30\n",
            "151/151 [==============================] - 158s 1s/step - loss: 0.2108 - accuracy: 0.9364 - val_loss: 0.7817 - val_accuracy: 0.8268\n",
            "Epoch 15/30\n",
            "151/151 [==============================] - 158s 1s/step - loss: 0.2126 - accuracy: 0.9348 - val_loss: 1.3191 - val_accuracy: 0.7482\n",
            "Epoch 16/30\n",
            "151/151 [==============================] - 158s 1s/step - loss: 0.1919 - accuracy: 0.9401 - val_loss: 0.7884 - val_accuracy: 0.8321\n",
            "Epoch 17/30\n",
            "151/151 [==============================] - 159s 1s/step - loss: 0.1722 - accuracy: 0.9448 - val_loss: 0.8649 - val_accuracy: 0.7937\n",
            "Epoch 18/30\n",
            "151/151 [==============================] - 158s 996ms/step - loss: 0.1924 - accuracy: 0.9418 - val_loss: 1.5084 - val_accuracy: 0.7214\n",
            "Epoch 19/30\n",
            "151/151 [==============================] - 158s 1s/step - loss: 0.1551 - accuracy: 0.9540 - val_loss: 0.8855 - val_accuracy: 0.8009\n",
            "Epoch 20/30\n",
            "151/151 [==============================] - 158s 1s/step - loss: 0.1836 - accuracy: 0.9456 - val_loss: 0.5699 - val_accuracy: 0.8589\n",
            "Epoch 21/30\n",
            "151/151 [==============================] - 158s 1s/step - loss: 0.1433 - accuracy: 0.9568 - val_loss: 1.0588 - val_accuracy: 0.7696\n",
            "Epoch 22/30\n",
            "151/151 [==============================] - 158s 1s/step - loss: 0.1434 - accuracy: 0.9556 - val_loss: 0.6887 - val_accuracy: 0.8402\n",
            "Epoch 23/30\n",
            "151/151 [==============================] - 158s 1s/step - loss: 0.1283 - accuracy: 0.9616 - val_loss: 0.7013 - val_accuracy: 0.8384\n",
            "Epoch 24/30\n",
            "151/151 [==============================] - 158s 996ms/step - loss: 0.1175 - accuracy: 0.9635 - val_loss: 0.7710 - val_accuracy: 0.8152\n",
            "Epoch 25/30\n",
            "151/151 [==============================] - 158s 1s/step - loss: 0.1399 - accuracy: 0.9536 - val_loss: 0.7431 - val_accuracy: 0.8152\n",
            "Epoch 26/30\n",
            "151/151 [==============================] - 159s 1s/step - loss: 0.1031 - accuracy: 0.9687 - val_loss: 0.7404 - val_accuracy: 0.8330\n",
            "Epoch 27/30\n",
            "151/151 [==============================] - 158s 995ms/step - loss: 0.1227 - accuracy: 0.9641 - val_loss: 0.8880 - val_accuracy: 0.8045\n",
            "Epoch 28/30\n",
            "151/151 [==============================] - 157s 995ms/step - loss: 0.1230 - accuracy: 0.9615 - val_loss: 0.8322 - val_accuracy: 0.8134\n",
            "Epoch 29/30\n",
            "151/151 [==============================] - 158s 999ms/step - loss: 0.1289 - accuracy: 0.9624 - val_loss: 0.8980 - val_accuracy: 0.8000\n",
            "Epoch 30/30\n",
            "151/151 [==============================] - 158s 1s/step - loss: 0.0997 - accuracy: 0.9702 - val_loss: 0.8351 - val_accuracy: 0.8188\n"
          ]
        }
      ]
    },
    {
      "cell_type": "code",
      "source": [
        "history_dict = history.history\n",
        "loss = history_dict['loss']\n",
        "val_loss = history_dict['val_loss']\n",
        "\n",
        "acc = history_dict['accuracy']\n",
        "val_acc = history_dict['val_accuracy']\n",
        "\n",
        "epochs = range(1, len(loss) + 1)\n",
        "\n",
        "plt.figure(figsize=(10, 4))\n",
        "\n",
        "plt.subplot(121)\n",
        "\n",
        "plt.plot(epochs, loss, 'r', label='training loss')\n",
        "plt.plot(epochs, val_loss, 'b', label='validation loss')\n",
        "plt.xlabel('Epochs')\n",
        "plt.ylabel('Loss')\n",
        "plt.legend()\n",
        "\n",
        "plt.subplot(122)\n",
        "\n",
        "plt.plot(epochs, acc, 'r', label='training acc')\n",
        "plt.plot(epochs, val_acc, 'b', label='validation acc')\n",
        "plt.xlabel('Epochs')\n",
        "plt.ylabel('Acc')\n",
        "plt.legend()\n",
        "\n",
        "plt.tight_layout()\n",
        "plt.show()"
      ],
      "metadata": {
        "colab": {
          "base_uri": "https://localhost:8080/",
          "height": 297
        },
        "id": "G6sQKv0CCxZe",
        "outputId": "44253a27-433d-49ed-c7bc-7ade39f7e07d"
      },
      "id": "G6sQKv0CCxZe",
      "execution_count": 123,
      "outputs": [
        {
          "output_type": "display_data",
          "data": {
            "image/png": "[encoded data removed]",
            "text/plain": [
              "<Figure size 720x288 with 2 Axes>"
            ]
          },
          "metadata": {
            "needs_background": "light"
          }
        }
      ]
    },
    {
      "cell_type": "code",
      "source": [
        "scores = model.evaluate_generator(test_generator, steps=5)\n",
        "print(\"%s: %.2f%%\" %(model.metrics_names[1], scores[1]*100))"
      ],
      "metadata": {
        "colab": {
          "base_uri": "https://localhost:8080/"
        },
        "id": "AZRBAp90C09q",
        "outputId": "fc424de3-e4bb-4b6d-bd35-c3abfd6e0f94"
      },
      "id": "AZRBAp90C09q",
      "execution_count": 124,
      "outputs": [
        {
          "output_type": "stream",
          "name": "stderr",
          "text": [
            "/usr/local/lib/python3.7/dist-packages/ipykernel_launcher.py:1: UserWarning: `Model.evaluate_generator` is deprecated and will be removed in a future version. Please use `Model.evaluate`, which supports generators.\n",
            "  \"\"\"Entry point for launching an IPython kernel.\n"
          ]
        },
        {
          "output_type": "stream",
          "name": "stdout",
          "text": [
            "accuracy: 85.62%\n"
          ]
        }
      ]
    },
    {
      "cell_type": "code",
      "source": [
        "print(\"-- Predict --\")\n",
        "output = model.predict_generator(test_generator)\n",
        "np.set_printoptions(formatter={'float': lambda x: \"{0:0.3f}\".format(x)})"
      ],
      "metadata": {
        "colab": {
          "base_uri": "https://localhost:8080/"
        },
        "id": "jI0AHcskDOjo",
        "outputId": "82f1896b-2aac-4b67-b16f-8caafef8561e"
      },
      "id": "jI0AHcskDOjo",
      "execution_count": 125,
      "outputs": [
        {
          "output_type": "stream",
          "name": "stdout",
          "text": [
            "-- Predict --\n"
          ]
        },
        {
          "output_type": "stream",
          "name": "stderr",
          "text": [
            "/usr/local/lib/python3.7/dist-packages/ipykernel_launcher.py:2: UserWarning: `Model.predict_generator` is deprecated and will be removed in a future version. Please use `Model.predict`, which supports generators.\n",
            "  \n"
          ]
        },
        {
          "output_type": "stream",
          "name": "stdout",
          "text": [
            "WARNING:tensorflow:5 out of the last 85 calls to <function Model.make_predict_function.<locals>.predict_function at 0x7f93b5f38a70> triggered tf.function retracing. Tracing is expensive and the excessive number of tracings could be due to (1) creating @tf.function repeatedly in a loop, (2) passing tensors with different shapes, (3) passing Python objects instead of tensors. For (1), please define your @tf.function outside of the loop. For (2), @tf.function has experimental_relax_shapes=True option that relaxes argument shapes that can avoid unnecessary retracing. For (3), please refer to https://www.tensorflow.org/guide/function#controlling_retracing and https://www.tensorflow.org/api_docs/python/tf/function for  more details.\n"
          ]
        }
      ]
    },
    {
      "cell_type": "code",
      "source": [
        "predicted_class_indices=np.argmax(output, axis=1)\n",
        "\n",
        "predictions = [labels[k] for k in predicted_class_indices]\n",
        "\n",
        "filenames=test_generator.filenames\n",
        "results=pd.DataFrame({\"Filename\":filenames,\n",
        "                      \"Predictions\":predictions})\n",
        "results"
      ],
      "metadata": {
        "colab": {
          "base_uri": "https://localhost:8080/",
          "height": 424
        },
        "id": "Yov9fkp-DAFA",
        "outputId": "e94c96e0-6e5a-4d80-fab6-47eeeeac250e"
      },
      "id": "Yov9fkp-DAFA",
      "execution_count": 126,
      "outputs": [
        {
          "output_type": "execute_result",
          "data": {
            "text/html": [
              "\n",
              "  <div id=\"df-ffa4f07c-bd4f-4bef-aa1b-3f0ce465be99\">\n",
              "    <div class=\"colab-df-container\">\n",
              "      <div>\n",
              "<style scoped>\n",
              "    .dataframe tbody tr th:only-of-type {\n",
              "        vertical-align: middle;\n",
              "    }\n",
              "\n",
              "    .dataframe tbody tr th {\n",
              "        vertical-align: top;\n",
              "    }\n",
              "\n",
              "    .dataframe thead th {\n",
              "        text-align: right;\n",
              "    }\n",
              "</style>\n",
              "<table border=\"1\" class=\"dataframe\">\n",
              "  <thead>\n",
              "    <tr style=\"text-align: right;\">\n",
              "      <th></th>\n",
              "      <th>Filename</th>\n",
              "      <th>Predictions</th>\n",
              "    </tr>\n",
              "  </thead>\n",
              "  <tbody>\n",
              "    <tr>\n",
              "      <th>0</th>\n",
              "      <td>Abra/Abra20.jpg</td>\n",
              "      <td>Voltorb</td>\n",
              "    </tr>\n",
              "    <tr>\n",
              "      <th>1</th>\n",
              "      <td>Abra/Abra21.jpg</td>\n",
              "      <td>Dragonair</td>\n",
              "    </tr>\n",
              "    <tr>\n",
              "      <th>2</th>\n",
              "      <td>Abra/Abra22.jpg</td>\n",
              "      <td>Caterpie</td>\n",
              "    </tr>\n",
              "    <tr>\n",
              "      <th>3</th>\n",
              "      <td>Abra/Abra34.jpg</td>\n",
              "      <td>Cloyster</td>\n",
              "    </tr>\n",
              "    <tr>\n",
              "      <th>4</th>\n",
              "      <td>Abra/Abra35.jpg</td>\n",
              "      <td>Nidoqueen</td>\n",
              "    </tr>\n",
              "    <tr>\n",
              "      <th>...</th>\n",
              "      <td>...</td>\n",
              "      <td>...</td>\n",
              "    </tr>\n",
              "    <tr>\n",
              "      <th>1122</th>\n",
              "      <td>Zubat/Zubat26.jpg</td>\n",
              "      <td>Zubat</td>\n",
              "    </tr>\n",
              "    <tr>\n",
              "      <th>1123</th>\n",
              "      <td>Zubat/Zubat27.jpg</td>\n",
              "      <td>Lapras</td>\n",
              "    </tr>\n",
              "    <tr>\n",
              "      <th>1124</th>\n",
              "      <td>Zubat/Zubat31.jpg</td>\n",
              "      <td>Lapras</td>\n",
              "    </tr>\n",
              "    <tr>\n",
              "      <th>1125</th>\n",
              "      <td>Zubat/Zubat32.jpg</td>\n",
              "      <td>Articuno</td>\n",
              "    </tr>\n",
              "    <tr>\n",
              "      <th>1126</th>\n",
              "      <td>Zubat/Zubat33.jpg</td>\n",
              "      <td>Kabuto</td>\n",
              "    </tr>\n",
              "  </tbody>\n",
              "</table>\n",
              "<p>1127 rows × 2 columns</p>\n",
              "</div>\n",
              "      <button class=\"colab-df-convert\" onclick=\"convertToInteractive('df-ffa4f07c-bd4f-4bef-aa1b-3f0ce465be99')\"\n",
              "              title=\"Convert this dataframe to an interactive table.\"\n",
              "              style=\"display:none;\">\n",
              "        \n",
              "  <svg xmlns=\"http://www.w3.org/2000/svg\" height=\"24px\"viewBox=\"0 0 24 24\"\n",
              "       width=\"24px\">\n",
              "    <path d=\"M0 0h24v24H0V0z\" fill=\"none\"/>\n",
              "    <path d=\"M18.56 5.44l.94 2.06.94-2.06 2.06-.94-2.06-.94-.94-2.06-.94 2.06-2.06.94zm-11 1L8.5 8.5l.94-2.06 2.06-.94-2.06-.94L8.5 2.5l-.94 2.06-2.06.94zm10 10l.94 2.06.94-2.06 2.06-.94-2.06-.94-.94-2.06-.94 2.06-2.06.94z\"/><path d=\"M17.41 7.96l-1.37-1.37c-.4-.4-.92-.59-1.43-.59-.52 0-1.04.2-1.43.59L10.3 9.45l-7.72 7.72c-.78.78-.78 2.05 0 2.83L4 21.41c.39.39.9.59 1.41.59.51 0 1.02-.2 1.41-.59l7.78-7.78 2.81-2.81c.8-.78.8-2.07 0-2.86zM5.41 20L4 18.59l7.72-7.72 1.47 1.35L5.41 20z\"/>\n",
              "  </svg>\n",
              "      </button>\n",
              "      \n",
              "  <style>\n",
              "    .colab-df-container {\n",
              "      display:flex;\n",
              "      flex-wrap:wrap;\n",
              "      gap: 12px;\n",
              "    }\n",
              "\n",
              "    .colab-df-convert {\n",
              "      background-color: #E8F0FE;\n",
              "      border: none;\n",
              "      border-radius: 50%;\n",
              "      cursor: pointer;\n",
              "      display: none;\n",
              "      fill: #1967D2;\n",
              "      height: 32px;\n",
              "      padding: 0 0 0 0;\n",
              "      width: 32px;\n",
              "    }\n",
              "\n",
              "    .colab-df-convert:hover {\n",
              "      background-color: #E2EBFA;\n",
              "      box-shadow: 0px 1px 2px rgba(60, 64, 67, 0.3), 0px 1px 3px 1px rgba(60, 64, 67, 0.15);\n",
              "      fill: #174EA6;\n",
              "    }\n",
              "\n",
              "    [theme=dark] .colab-df-convert {\n",
              "      background-color: #3B4455;\n",
              "      fill: #D2E3FC;\n",
              "    }\n",
              "\n",
              "    [theme=dark] .colab-df-convert:hover {\n",
              "      background-color: #434B5C;\n",
              "      box-shadow: 0px 1px 3px 1px rgba(0, 0, 0, 0.15);\n",
              "      filter: drop-shadow(0px 1px 2px rgba(0, 0, 0, 0.3));\n",
              "      fill: #FFFFFF;\n",
              "    }\n",
              "  </style>\n",
              "\n",
              "      <script>\n",
              "        const buttonEl =\n",
              "          document.querySelector('#df-ffa4f07c-bd4f-4bef-aa1b-3f0ce465be99 button.colab-df-convert');\n",
              "        buttonEl.style.display =\n",
              "          google.colab.kernel.accessAllowed ? 'block' : 'none';\n",
              "\n",
              "        async function convertToInteractive(key) {\n",
              "          const element = document.querySelector('#df-ffa4f07c-bd4f-4bef-aa1b-3f0ce465be99');\n",
              "          const dataTable =\n",
              "            await google.colab.kernel.invokeFunction('convertToInteractive',\n",
              "                                                     [key], {});\n",
              "          if (!dataTable) return;\n",
              "\n",
              "          const docLinkHtml = 'Like what you see? Visit the ' +\n",
              "            '<a target=\"_blank\" href=https://colab.research.google.com/notebooks/data_table.ipynb>data table notebook</a>'\n",
              "            + ' to learn more about interactive tables.';\n",
              "          element.innerHTML = '';\n",
              "          dataTable['output_type'] = 'display_data';\n",
              "          await google.colab.output.renderOutput(dataTable, element);\n",
              "          const docLink = document.createElement('div');\n",
              "          docLink.innerHTML = docLinkHtml;\n",
              "          element.appendChild(docLink);\n",
              "        }\n",
              "      </script>\n",
              "    </div>\n",
              "  </div>\n",
              "  "
            ],
            "text/plain": [
              "               Filename Predictions\n",
              "0       Abra/Abra20.jpg     Voltorb\n",
              "1       Abra/Abra21.jpg   Dragonair\n",
              "2       Abra/Abra22.jpg    Caterpie\n",
              "3       Abra/Abra34.jpg    Cloyster\n",
              "4       Abra/Abra35.jpg   Nidoqueen\n",
              "...                 ...         ...\n",
              "1122  Zubat/Zubat26.jpg       Zubat\n",
              "1123  Zubat/Zubat27.jpg      Lapras\n",
              "1124  Zubat/Zubat31.jpg      Lapras\n",
              "1125  Zubat/Zubat32.jpg    Articuno\n",
              "1126  Zubat/Zubat33.jpg      Kabuto\n",
              "\n",
              "[1127 rows x 2 columns]"
            ]
          },
          "metadata": {},
          "execution_count": 126
        }
      ]
    },
    {
      "cell_type": "code",
      "source": [
        "model.save(ROOT + 'resnet_drop20.h5')"
      ],
      "metadata": {
        "colab": {
          "base_uri": "https://localhost:8080/"
        },
        "id": "vgqO-QpQDSZb",
        "outputId": "0cfcbbce-6510-4dc0-97a1-f6b709edbf51"
      },
      "id": "vgqO-QpQDSZb",
      "execution_count": 127,
      "outputs": [
        {
          "output_type": "stream",
          "name": "stderr",
          "text": [
            "/usr/local/lib/python3.7/dist-packages/keras/engine/functional.py:1410: CustomMaskWarning: Custom mask layers require a config and must override get_config. When loading, the custom mask layer must be passed to the custom_objects argument.\n",
            "  layer_config = serialize_layer_fn(layer)\n"
          ]
        }
      ]
    },
    {
      "cell_type": "code",
      "source": [
        ""
      ],
      "metadata": {
        "id": "uGRNXYgLEJsv"
      },
      "id": "uGRNXYgLEJsv",
      "execution_count": null,
      "outputs": []
    }
  ],
  "metadata": {
    "kernelspec": {
      "display_name": "Python 3 (ipykernel)",
      "language": "python",
      "name": "python3"
    },
    "language_info": {
      "codemirror_mode": {
        "name": "ipython",
        "version": 3
      },
      "file_extension": ".py",
      "mimetype": "text/x-python",
      "name": "python",
      "nbconvert_exporter": "python",
      "pygments_lexer": "ipython3",
      "version": "3.7.11"
    },
    "colab": {
      "name": "model2.ipynb",
      "provenance": [],
      "collapsed_sections": []
    },
    "accelerator": "GPU"
  },
  "nbformat": 4,
  "nbformat_minor": 5
}