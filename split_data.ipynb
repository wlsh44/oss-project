{
 "cells": [
  {
   "cell_type": "code",
   "execution_count": 1,
   "id": "c7d8406a",
   "metadata": {},
   "outputs": [],
   "source": [
    "import os, shutil"
   ]
  },
  {
   "cell_type": "code",
   "execution_count": 2,
   "id": "38bb2ff7",
   "metadata": {},
   "outputs": [],
   "source": [
    "data_dir = 'PokemonData/'\n",
    "train_dir = data_dir + 'train/'\n",
    "test_dir = data_dir + 'test/'\n",
    "validation_dir = data_dir + 'validation/'"
   ]
  },
  {
   "cell_type": "code",
   "execution_count": 3,
   "id": "94167fb9",
   "metadata": {},
   "outputs": [],
   "source": [
    "pokemons = os.listdir(data_dir)"
   ]
  },
  {
   "cell_type": "code",
   "execution_count": 5,
   "id": "0314ade5",
   "metadata": {},
   "outputs": [
    {
     "name": "stdout",
     "output_type": "stream",
     "text": [
      "nothing\n"
     ]
    }
   ],
   "source": [
    "try:\n",
    "    pokemons.remove('train')\n",
    "    pokemons.remove('validation')\n",
    "    pokemons.remove('test')\n",
    "    pokemons.remove('.DS_Store')\n",
    "except:\n",
    "    print('nothing')"
   ]
  },
  {
   "cell_type": "code",
   "execution_count": 6,
   "id": "242cb37a",
   "metadata": {},
   "outputs": [
    {
     "data": {
      "text/plain": [
       "151"
      ]
     },
     "execution_count": 6,
     "metadata": {},
     "output_type": "execute_result"
    }
   ],
   "source": [
    "len(pokemons)"
   ]
  },
  {
   "cell_type": "code",
   "execution_count": 7,
   "id": "c122ff83",
   "metadata": {},
   "outputs": [],
   "source": [
    "if not os.path.exists(train_dir):\n",
    "    os.mkdir(train_dir)\n",
    "if not os.path.exists(validation_dir):\n",
    "    os.mkdir(validation_dir)\n",
    "if not os.path.exists(test_dir):\n",
    "    os.mkdir(test_dir)"
   ]
  },
  {
   "cell_type": "code",
   "execution_count": 8,
   "id": "d05aad2c",
   "metadata": {},
   "outputs": [],
   "source": [
    "for pokemon in pokemons:\n",
    "    if not os.path.exists(train_dir + pokemon):\n",
    "        os.mkdir(train_dir + pokemon)\n",
    "    if not os.path.exists(validation_dir + pokemon):\n",
    "        os.mkdir(validation_dir + pokemon)\n",
    "    if not os.path.exists(test_dir + pokemon):\n",
    "        os.mkdir(test_dir + pokemon)\n",
    "    \n",
    "    img_dir = data_dir + pokemon\n",
    "    imgs = os.listdir(img_dir)\n",
    "    ratio = int(len(imgs) * 0.1)\n",
    "\n",
    "    for i, img in enumerate(imgs):\n",
    "        if i < ratio:\n",
    "            shutil.move(img_dir + '/' + img, test_dir + pokemon)\n",
    "        elif i < 2 * ratio:\n",
    "            shutil.move(img_dir + '/' + img, validation_dir + pokemon)\n",
    "        else:\n",
    "            shutil.move(img_dir + '/' + img, train_dir + pokemon)\n",
    "    os.rmdir(img_dir)"
   ]
  },
  {
   "cell_type": "code",
   "execution_count": null,
   "id": "3bee60fd",
   "metadata": {},
   "outputs": [],
   "source": []
  }
 ],
 "metadata": {
  "kernelspec": {
   "display_name": "Python 3 (ipykernel)",
   "language": "python",
   "name": "python3"
  },
  "language_info": {
   "codemirror_mode": {
    "name": "ipython",
    "version": 3
   },
   "file_extension": ".py",
   "mimetype": "text/x-python",
   "name": "python",
   "nbconvert_exporter": "python",
   "pygments_lexer": "ipython3",
   "version": "3.7.11"
  }
 },
 "nbformat": 4,
 "nbformat_minor": 5
}
